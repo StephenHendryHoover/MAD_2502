{
 "cells": [
  {
   "cell_type": "markdown",
   "metadata": {},
   "source": [
    "# STRINGS, LISTS, ARRAYS\n",
    "\n",
    "Python can use lists to organize data\n",
    "\n",
    "To store multiple values in a single data structure, use a list with brakets [a,...,n]"
   ]
  },
  {
   "cell_type": "code",
   "execution_count": 1,
   "metadata": {},
   "outputs": [],
   "source": [
    "#!/usr/bin/env python3\n",
    "\n",
    "##################################################################################################\n",
    "#                         INTRO TO COMPUTATIONAL MATHEMATICS WITH PYTHON                         #\n",
    "##################################################################################################"
   ]
  },
  {
   "cell_type": "code",
   "execution_count": 2,
   "metadata": {},
   "outputs": [],
   "source": [
    "[42,'car','cat',17]       # example of a list\n",
    "a=[42,'car','cat',17]     # lists can be assigned to a variable"
   ]
  },
  {
   "cell_type": "code",
   "execution_count": 3,
   "metadata": {},
   "outputs": [
    {
     "data": {
      "text/plain": [
       "42"
      ]
     },
     "execution_count": 3,
     "metadata": {},
     "output_type": "execute_result"
    }
   ],
   "source": [
    "     # We can access individual elements by indexing\n",
    "a[0] # takes the first element from the list\n",
    "     # python indexes/initializes (starts counting) at 0"
   ]
  },
  {
   "cell_type": "code",
   "execution_count": 12,
   "metadata": {},
   "outputs": [
    {
     "name": "stdout",
     "output_type": "stream",
     "text": [
      "17\n",
      "[42, 'car', 'cat']\n"
     ]
    }
   ],
   "source": [
    "# Python can index in backwards, a[-1] is the last element, a[-2] is the second to last element, etc.\n",
    "print(a[-1])\n",
    "\n",
    "# Multiple elements can be taken out of a list, this operation is called slicing\n",
    "        # first value, the first element you want\n",
    "        # second value, the value to stop at (not included)\n",
    "print(a[0:3])"
   ]
  },
  {
   "cell_type": "code",
   "execution_count": 5,
   "metadata": {},
   "outputs": [
    {
     "name": "stdout",
     "output_type": "stream",
     "text": [
      "[4, 5, 6]\n",
      "6\n"
     ]
    }
   ],
   "source": [
    "a[0:3]             # Python can handle lists of lists, also known as matrices \n",
    "\n",
    "m=[[1,2,3],[4,5,6]] # list of lists i.e., matrix\n",
    "print( m[1] )               # first element of list a, i.e., [1,2,3]\n",
    "print( m[1][2] )             # first element of list a, third element of a's first element i.e., [6]"
   ]
  },
  {
   "cell_type": "code",
   "execution_count": 6,
   "metadata": {},
   "outputs": [
    {
     "name": "stdout",
     "output_type": "stream",
     "text": [
      "['c', 'd', 'e', 'f']\n",
      "['a', 'c', 'e']\n"
     ]
    }
   ],
   "source": [
    "example=['a','b','c','d','e','f']\n",
    "print(example[2:7])\n",
    "\n",
    "print(example[0:7:2])  # This example takes every second element\n",
    "                       # for list[a:b:n] every nth element starting at index (a) until index (b-1)"
   ]
  },
  {
   "cell_type": "code",
   "execution_count": 7,
   "metadata": {},
   "outputs": [
    {
     "name": "stdout",
     "output_type": "stream",
     "text": [
      "['replaced', 'b', 'c', 'd', 'e', 'f']\n"
     ]
    }
   ],
   "source": [
    "# Chaing elements of lists\n",
    "example[0] = 'replaced' # Takes first element and replaces it with some string or value\n",
    "print(example)\n",
    "# In python there is no ctrl-z or undo button in python"
   ]
  },
  {
   "cell_type": "code",
   "execution_count": 8,
   "metadata": {},
   "outputs": [
    {
     "name": "stdout",
     "output_type": "stream",
     "text": [
      "[1, 2, 3, 4, 5]\n",
      "Both y and x have changed\n",
      "[1, 2, 'string', 4, 5]\n",
      "[1, 2, 'string', 4, 5]\n"
     ]
    }
   ],
   "source": [
    "# Python is an object oriented language, so if a variable x = y then they become the same object.\n",
    "# If an attribute of x is changed, y also changes\n",
    "x = [1,2,3,4,5]\n",
    "y = x\n",
    "print(x)\n",
    "x[2] = 'string'\n",
    "print('Both y and x have changed')\n",
    "print (y)      # y is changed\n",
    "print (x)"
   ]
  },
  {
   "cell_type": "code",
   "execution_count": 9,
   "metadata": {},
   "outputs": [
    {
     "name": "stdout",
     "output_type": "stream",
     "text": [
      "['a', 'b', 'c', 'd', 'e']\n",
      "                    \n",
      "letters:  ['a', 'b', 'replaced element', 'd', 'e']\n",
      "copy:  ['a', 'b', 'c', 'd', 'e']\n"
     ]
    }
   ],
   "source": [
    "# How to copy attributes of files to a new variable without modifying the original file\n",
    "orignial = [\"a\",\"b\",\"c\",\"d\",\"e\"]\n",
    "copy = orignial[:]\n",
    "print(copy)\n",
    "\n",
    "orignial[2] = 'replaced element' # modify an element of original \n",
    "print('                    ')    # blank line\n",
    "print ('letters: ', orignial)    # \n",
    "print ('copy: ', copy)           #"
   ]
  },
  {
   "cell_type": "code",
   "execution_count": 10,
   "metadata": {},
   "outputs": [
    {
     "name": "stdout",
     "output_type": "stream",
     "text": [
      "6\n",
      "5\n"
     ]
    }
   ],
   "source": [
    "print( len(example)) # Find the length of a list\n",
    "print( len(\"hello\")) # Find the length of a string"
   ]
  },
  {
   "cell_type": "code",
   "execution_count": 11,
   "metadata": {},
   "outputs": [
    {
     "name": "stdout",
     "output_type": "stream",
     "text": [
      "['joe', 'sarah', 'mike', 27, 18, 32]\n"
     ]
    }
   ],
   "source": [
    "names = ['joe', 'sarah', 'mike']\n",
    "age = [27, 18, 32]\n",
    "print (names + age) # lists can be concantinated"
   ]
  }
 ],
 "metadata": {
  "kernelspec": {
   "display_name": "Python 3",
   "language": "python",
   "name": "python3"
  },
  "language_info": {
   "codemirror_mode": {
    "name": "ipython",
    "version": 3
   },
   "file_extension": ".py",
   "mimetype": "text/x-python",
   "name": "python",
   "nbconvert_exporter": "python",
   "pygments_lexer": "ipython3",
   "version": "3.6.5"
  }
 },
 "nbformat": 4,
 "nbformat_minor": 2
}
