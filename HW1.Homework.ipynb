{
  "nbformat": 4,
  "nbformat_minor": 0,
  "metadata": {
    "colab": {
      "name": "MAD2502_H1_Hoover_Stephen.ipynb",
      "version": "0.3.2",
      "provenance": [],
      "collapsed_sections": []
    },
    "kernelspec": {
      "display_name": "Python 3",
      "language": "python",
      "name": "python3"
    }
  },
  "cells": [
    {
      "metadata": {
        "id": "PcM99jfXGE6W",
        "colab_type": "text"
      },
      "cell_type": "markdown",
      "source": [
        "# Homework H1\n",
        "\n",
        "All solutions must be combined into a single .py file, which is uploaded through Canvas. The solutions must be written in Python 3.x. If you used external sources, these need to be indicated in a comment. If you collaborate with another student on a problem, indicate their name(s) in a comment."
      ]
    },
    {
      "metadata": {
        "id": "rqLYcX-LFHdy",
        "colab_type": "text"
      },
      "cell_type": "markdown",
      "source": [
        "## Problem 1 (4 Points)\n",
        "Consider the following sequence of strings S0,S1,S2,...:\n",
        "\n",
        "S0 = \"x\", S1= \"y\", and Sn= Sn-1||Sn-2 for n>1, where || denotes concatenation. For instance S2=\"yx\", S3=\"yxy\".\n",
        "\n",
        "Write a function fib_string(n), which for a given natural number n returns the string Sn."
      ]
    },
    {
      "metadata": {
        "id": "JPwQFOLeGE6X",
        "colab_type": "code",
        "colab": {}
      },
      "cell_type": "code",
      "source": [
        "#!/usr/bin/env python3\n",
        "\n",
        "##################################################################################################\n",
        "#                         INTRO TO COMPUTATIONAL MATHEMATICS WITH PYTHON                         #\n",
        "##################################################################################################\n",
        "# Author: Stephen H. Hoover\n",
        "# Problem 1: Fibonacci string\n",
        "##################################################################################################\n",
        "def fib_string(n):\n",
        "    n=int(n)  # floats are converted to integers\n",
        "    \n",
        "    #base cases\n",
        "    if n==0:\n",
        "      return 'x'\n",
        "    if n==1:\n",
        "      return 'y'\n",
        "    \n",
        "    # general case\n",
        "    else:\n",
        "      return fib_string(n-1)+fib_string(n-2)"
      ],
      "execution_count": 0,
      "outputs": []
    },
    {
      "metadata": {
        "id": "5mvtyfk-FTDn",
        "colab_type": "code",
        "colab": {
          "base_uri": "https://localhost:8080/",
          "height": 34
        },
        "outputId": "9b7a827c-bb0d-4f97-e9d2-8f18e68cd964"
      },
      "cell_type": "code",
      "source": [
        "fib_string(7)"
      ],
      "execution_count": 2,
      "outputs": [
        {
          "output_type": "execute_result",
          "data": {
            "text/plain": [
              "'yxyyxyxyyxyyxyxyyxyxy'"
            ]
          },
          "metadata": {
            "tags": []
          },
          "execution_count": 2
        }
      ]
    },
    {
      "metadata": {
        "id": "1RRPXtxtFKEf",
        "colab_type": "text"
      },
      "cell_type": "markdown",
      "source": [
        "## Problem 2 (5 Points)\n",
        "Write a Python function gcd_list(ls) which, given a list of integers ls, returns the greatest common divisor of the numbers in ls. For instance, gcd_list([12,20,-10]) should return 2.\n",
        "\n",
        "Hint: You can use the abs() function to compute the absolute value of a number."
      ]
    },
    {
      "metadata": {
        "id": "L3gQQHkbDkLa",
        "colab_type": "code",
        "colab": {}
      },
      "cell_type": "code",
      "source": [
        "##################################################################################################\n",
        "# Problem 2: Fibonacci string\n",
        "##################################################################################################\n",
        "def gcd_list(ls):\n",
        "  '''compute gcd of a list of numbers'''\n",
        "  #import gcd for two numbers (or use solution from class)\n",
        "  from math import gcd\n",
        "\n",
        "  #take care of special situations first\n",
        "  if len(ls)==0:\n",
        "    return \"undefined\"\n",
        "  if len(ls)==1:\n",
        "    return ls[0]\n",
        "  else:\n",
        "    # general case\n",
        "    return gcd(ls[0], gcd_list(ls[1:]))"
      ],
      "execution_count": 0,
      "outputs": []
    },
    {
      "metadata": {
        "id": "crtChIdpFhjR",
        "colab_type": "code",
        "colab": {
          "base_uri": "https://localhost:8080/",
          "height": 34
        },
        "outputId": "c830b023-623b-46d5-b613-f040efbefec0"
      },
      "cell_type": "code",
      "source": [
        "gcd_list([12,20,-10])"
      ],
      "execution_count": 4,
      "outputs": [
        {
          "output_type": "execute_result",
          "data": {
            "text/plain": [
              "2"
            ]
          },
          "metadata": {
            "tags": []
          },
          "execution_count": 4
        }
      ]
    },
    {
      "metadata": {
        "id": "fR9k3mLPFKn_",
        "colab_type": "text"
      },
      "cell_type": "markdown",
      "source": [
        "## Problem 3 (5 Points)\n",
        "Write a function game(), which enables a user to play the following game against the computer—the computer must always win if it has the first move:  The game starts with a pile of 39 coins being on the table. Now the first player may remove 1, 2 or 3 coins. Then the second player may remove 1, 2 or 3 coins, then the first Player may remove 1, 2 or 3 coins etc. The player taking the last coin wins."
      ]
    },
    {
      "metadata": {
        "id": "Ztz-kRwjFCXQ",
        "colab_type": "code",
        "colab": {}
      },
      "cell_type": "code",
      "source": [
        "##################################################################################################\n",
        "# Problem 3: NIM Game\n",
        "# Extra Source: http://mathforum.org/library/drmath/view/54203.html\n",
        "# Extra Source: https://www.youtube.com/watch?v=TC0s5LZMqf8&t=197s\n",
        "##################################################################################################\n",
        "\n",
        "def bot():\n",
        "    global coins\n",
        "    \n",
        "    if coins%4 != 0:\n",
        "        CT =  coins%4\n",
        "    else:\n",
        "        CT = 1\n",
        "    coins = coins - CT\n",
        "    print('Bot removed', CT, 'coin(s). There is/are', coins, \"coin(s) left in the pile \\n'\")\n",
        "\n",
        "def user():\n",
        "    global coins\n",
        "    while True:\n",
        "        try:\n",
        "            CT = int(input('User - How many coins would you like to remove from the pile: '))\n",
        "            if CT <= coins and CT == 1 or CT == 2 or CT == 3:\n",
        "                break\n",
        "        except:\n",
        "            continue\n",
        "\n",
        "    coins = coins - CT\n",
        "    print(' ') # blank line\n",
        "    print('User removed', CT, 'coin(s). There is/are', coins, \"coin(s) left in the pile \\n'\")\n",
        "\n",
        "def game():\n",
        "    print('Welcome to a Dr. NIM Style Game in Python \\n')\n",
        "    \n",
        "    print('One player or team may play against the program.',\n",
        "          'The game starts with a pile of 39 coins. The first player may remove 1, 2 or 3 coins.',\n",
        "         'Then the second player may remove 1, 2 or 3 coins. The first player may then remove 1, 2', \n",
        "        'or 3 coins etc. The player taking the last coin wins. \\n')\n",
        "    \n",
        "    firstmove = input('Enter \\'1\\' to make the first move, \\'2\\' to play with another player ' +\n",
        "                      'or enter anything else to let the program makes the first move: ')\n",
        "    print(' ') # blank line\n",
        "    ##############################################################################################\n",
        "    global coins \n",
        "    coins = 39\n",
        "    \n",
        "    if firstmove == '1':\n",
        "        print('The user is playing first')\n",
        "        while True:\n",
        "            user()\n",
        "            if coins <= 0:\n",
        "                print('User won the game')\n",
        "                break\n",
        "            \n",
        "            print(' ') # blank line\n",
        "            \n",
        "            bot()\n",
        "            if coins <= 0:\n",
        "                print('Bot won the game')\n",
        "                break\n",
        "            print(' ') # blank line\n",
        "\n",
        "    if firstmove == '2':\n",
        "        print('This is a multiplayer game')\n",
        "        while True:\n",
        "            user()\n",
        "            if coins <= 0:\n",
        "                print('Player 1 won the game')\n",
        "                break\n",
        "            \n",
        "            print(' ') # blank line\n",
        "            \n",
        "            user()\n",
        "            if coins <= 0:\n",
        "                print('Player 2 won the game')\n",
        "                break\n",
        "            print(' ') # blank line\n",
        "\n",
        "    else:\n",
        "        print('The bot is playing first')\n",
        "        while True:\n",
        "            bot()\n",
        "            if coins <= 0:\n",
        "                print('Bot won the game')\n",
        "                break\n",
        "\n",
        "            print(' ') # blank line\n",
        "            \n",
        "            user()\n",
        "            if coins <= 0:\n",
        "                print('User won the game')\n",
        "                break\n",
        "            print(' ') # blank line\n",
        "    \n",
        "    ##############################################################################################"
      ],
      "execution_count": 0,
      "outputs": []
    },
    {
      "metadata": {
        "id": "dxrK2DyUFvA4",
        "colab_type": "code",
        "colab": {
          "base_uri": "https://localhost:8080/",
          "height": 1499
        },
        "outputId": "5e3e71f8-4dd5-4a9a-af81-f67231375315"
      },
      "cell_type": "code",
      "source": [
        "game()"
      ],
      "execution_count": 6,
      "outputs": [
        {
          "output_type": "stream",
          "text": [
            "Welcome to a Dr. NIM Style Game in Python \n",
            "\n",
            "One player or team may play against the program. The game starts with a pile of 39 coins. The first player may remove 1, 2 or 3 coins. Then the second player may remove 1, 2 or 3 coins. The first player may then remove 1, 2 or 3 coins etc. The player taking the last coin wins. \n",
            "\n",
            "Enter '1' to make the first move, '2' to play with another player or enter anything else to let the program makes the first move:  \n",
            " \n",
            "The bot is playing first\n",
            "Bot removed 3 coin(s). There is/are 36 coin(s) left in the pile \n",
            "'\n",
            " \n",
            "User - How many coins would you like to remove from the pile: 3\n",
            " \n",
            "User removed 3 coin(s). There is/are 33 coin(s) left in the pile \n",
            "'\n",
            " \n",
            "Bot removed 1 coin(s). There is/are 32 coin(s) left in the pile \n",
            "'\n",
            " \n",
            "User - How many coins would you like to remove from the pile: 8\n",
            "User - How many coins would you like to remove from the pile: 88\n",
            "User - How many coins would you like to remove from the pile: -1\n",
            "User - How many coins would you like to remove from the pile: 1\n",
            " \n",
            "User removed 1 coin(s). There is/are 31 coin(s) left in the pile \n",
            "'\n",
            " \n",
            "Bot removed 3 coin(s). There is/are 28 coin(s) left in the pile \n",
            "'\n",
            " \n",
            "User - How many coins would you like to remove from the pile: 3\n",
            " \n",
            "User removed 3 coin(s). There is/are 25 coin(s) left in the pile \n",
            "'\n",
            " \n",
            "Bot removed 1 coin(s). There is/are 24 coin(s) left in the pile \n",
            "'\n",
            " \n",
            "User - How many coins would you like to remove from the pile: \n",
            "User - How many coins would you like to remove from the pile: 3\n",
            " \n",
            "User removed 3 coin(s). There is/are 21 coin(s) left in the pile \n",
            "'\n",
            " \n",
            "Bot removed 1 coin(s). There is/are 20 coin(s) left in the pile \n",
            "'\n",
            " \n",
            "User - How many coins would you like to remove from the pile: 2\n",
            " \n",
            "User removed 2 coin(s). There is/are 18 coin(s) left in the pile \n",
            "'\n",
            " \n",
            "Bot removed 2 coin(s). There is/are 16 coin(s) left in the pile \n",
            "'\n",
            " \n",
            "User - How many coins would you like to remove from the pile: 1\n",
            " \n",
            "User removed 1 coin(s). There is/are 15 coin(s) left in the pile \n",
            "'\n",
            " \n",
            "Bot removed 3 coin(s). There is/are 12 coin(s) left in the pile \n",
            "'\n",
            " \n",
            "User - How many coins would you like to remove from the pile: 3\n",
            " \n",
            "User removed 3 coin(s). There is/are 9 coin(s) left in the pile \n",
            "'\n",
            " \n",
            "Bot removed 1 coin(s). There is/are 8 coin(s) left in the pile \n",
            "'\n",
            " \n",
            "User - How many coins would you like to remove from the pile: 2\n",
            " \n",
            "User removed 2 coin(s). There is/are 6 coin(s) left in the pile \n",
            "'\n",
            " \n",
            "Bot removed 2 coin(s). There is/are 4 coin(s) left in the pile \n",
            "'\n",
            " \n",
            "User - How many coins would you like to remove from the pile: 1\n",
            " \n",
            "User removed 1 coin(s). There is/are 3 coin(s) left in the pile \n",
            "'\n",
            " \n",
            "Bot removed 3 coin(s). There is/are 0 coin(s) left in the pile \n",
            "'\n",
            "Bot won the game\n"
          ],
          "name": "stdout"
        }
      ]
    }
  ]
}