{
  "nbformat": 4,
  "nbformat_minor": 0,
  "metadata": {
    "colab": {
      "name": "Objects/Classes.ipynb",
      "version": "0.3.2",
      "provenance": [],
      "collapsed_sections": []
    }
  },
  "cells": [
    {
      "metadata": {
        "id": "aNvfu_46jZtz",
        "colab_type": "text"
      },
      "cell_type": "markdown",
      "source": [
        "# Objects and Classes\n",
        "\n",
        "---\n",
        "\n",
        "## The baisc idea is to capture the atributes of an object (plane, matrix, pet, ...) in an abstract description, along with the methods to interact with such objects.\n",
        "\n",
        ">> ## This abstract description is what we call a class\n",
        "\n",
        "\n",
        "\n",
        "---\n",
        "\n",
        "## Specific instances of a class are captured as objects.\n",
        "\n",
        ">> convention is tht class names are specificed with capital letters"
      ]
    },
    {
      "metadata": {
        "id": "-swJxl3CjXmd",
        "colab_type": "code",
        "colab": {}
      },
      "cell_type": "code",
      "source": [
        "class Complex:\n",
        "  def __init__(self, realpart, imagpart):\n",
        "    self.r = realpart\n",
        "    self.i = imagpart\n",
        "    \n",
        "x = Complex(3.0, -4.5)"
      ],
      "execution_count": 0,
      "outputs": []
    },
    {
      "metadata": {
        "id": "hzFcRc9Ml3-6",
        "colab_type": "code",
        "outputId": "78acda33-265a-4c1d-c89d-3583c6b50940",
        "colab": {
          "base_uri": "https://localhost:8080/",
          "height": 34
        }
      },
      "cell_type": "code",
      "source": [
        "x.r, x.i"
      ],
      "execution_count": 2,
      "outputs": [
        {
          "output_type": "execute_result",
          "data": {
            "text/plain": [
              "(3.0, -4.5)"
            ]
          },
          "metadata": {
            "tags": []
          },
          "execution_count": 2
        }
      ]
    },
    {
      "metadata": {
        "id": "6oJtkr_PmQ_L",
        "colab_type": "text"
      },
      "cell_type": "markdown",
      "source": [
        "Try to write a class that takes in a point as an object. three-space"
      ]
    },
    {
      "metadata": {
        "id": "HvNM7yDel6Vh",
        "colab_type": "code",
        "colab": {}
      },
      "cell_type": "code",
      "source": [
        "class Point3D:\n",
        "  def __init__(self, x, y, z):\n",
        "    '''Initialize a point in a three dimensional plane of real values'''\n",
        "    self.x = x\n",
        "    self.y = y\n",
        "    self.z = z\n",
        "    \n",
        "  def distance(self, point):\n",
        "    '''Compute Distance to Another Point'''\n",
        "    d = ((self.x - point.x) **2 + (self.y- point.y) **2 + (self.z - point.z)**2) ** 0.5\n",
        "    return d\n",
        "  \n",
        "  def shiftedPoint(self, shx, shy, shz):\n",
        "    '''shift point by specified offset '''\n",
        "    newx = self.x + shx\n",
        "    newy = self.y + shy\n",
        "    newz = self.x + shz\n",
        "    \n",
        "    return Point3D(newx, newy, newz)"
      ],
      "execution_count": 0,
      "outputs": []
    },
    {
      "metadata": {
        "id": "rHoPvH4CoSZF",
        "colab_type": "code",
        "outputId": "267ee5a2-fd73-4476-997d-5ba0d829a7a3",
        "colab": {
          "base_uri": "https://localhost:8080/",
          "height": 34
        }
      },
      "cell_type": "code",
      "source": [
        "p = Point3D(0,0,1)\n",
        "q = Point3D(0,0,2)\n",
        "\n",
        "p.distance(q)"
      ],
      "execution_count": 4,
      "outputs": [
        {
          "output_type": "execute_result",
          "data": {
            "text/plain": [
              "1.0"
            ]
          },
          "metadata": {
            "tags": []
          },
          "execution_count": 4
        }
      ]
    },
    {
      "metadata": {
        "id": "U8fKRZ33rT4c",
        "colab_type": "code",
        "colab": {}
      },
      "cell_type": "code",
      "source": [
        ""
      ],
      "execution_count": 0,
      "outputs": []
    },
    {
      "metadata": {
        "id": "Up8UBIiroW17",
        "colab_type": "code",
        "outputId": "e836b512-69f2-4e52-e9ee-7e46cc854e5f",
        "colab": {
          "base_uri": "https://localhost:8080/",
          "height": 34
        }
      },
      "cell_type": "code",
      "source": [
        "q = p.shiftedPoint(42,0,5)\n",
        "q.x"
      ],
      "execution_count": 5,
      "outputs": [
        {
          "output_type": "execute_result",
          "data": {
            "text/plain": [
              "42"
            ]
          },
          "metadata": {
            "tags": []
          },
          "execution_count": 5
        }
      ]
    },
    {
      "metadata": {
        "id": "fUP2VW8ZszZH",
        "colab_type": "code",
        "colab": {}
      },
      "cell_type": "code",
      "source": [
        "# import math\n",
        "\n",
        "def Euclidean_GCD (a,b):\n",
        "  while b != 0:\n",
        "    t = b\n",
        "    b = a % b\n",
        "    a = t\n",
        "  return a\n",
        "\n",
        "class Rational:\n",
        "  def __init__(self, n, d):\n",
        "    '''construct a rational number in the lowest term'''\n",
        "    if d == 0:\n",
        "      raise ZeroDivisionError(\"Denominator of rational may not be zero.\")\n",
        "    else:\n",
        "      g = Euclidean_GCD(n,d)\n",
        "      self.n = n/g\n",
        "      self.d = d/g\n",
        "\n",
        "  def __add__(self, other):\n",
        "    '''add two rational numbers'''\n",
        "    return Rational(self.n*other.d + other.n*self.d, self.d*other.d)\n",
        "\n",
        "  def __sub__(self, other):\n",
        "    '''subtract two rational numbers'''\n",
        "    return Rational(self.n*other.d - other.n*self.d, self.d*other.d)\n",
        "  \n",
        "  def __mul__(self,other):\n",
        "    '''multiply two rational numbers'''\n",
        "    return Rational(self.n*other.n, self.d*other.d)\n",
        "\n",
        "  def __div__(self, other):\n",
        "    '''divide two rational numbers'''\n",
        "    return Rational(self.n*other.d, self.d*other.n)\n",
        "\n",
        "  def __eq__(self, other):\n",
        "    '''check if two rational numbers are equivalent'''\n",
        "    if (self.n*other.d == other.n*self.d):\n",
        "      return True\n",
        "    else:\n",
        "      return False\n",
        "    \n",
        "  def __str__(self):\n",
        "    '''convert fraction to string'''\n",
        "    return str(self.n) + '/' + str(self.d)\n",
        "  \n",
        "  def __repr__(self):\n",
        "    '''returns a valid python description of a fraction'''\n",
        "    \n",
        "    return 'Rational('+str(int(self.n)) + ',' + str(int(self.d))+')'\n",
        "  \n",
        "  def __le__(self):\n",
        "    '''<= for fractions'''\n",
        "    self_float = self.n/self.d\n",
        "    other_float = other.n/other.d\n",
        "    \n",
        "    if (self.n*other.d <= other.n*self.d):\n",
        "      return True\n",
        "    else:\n",
        "      return False\n",
        "\n",
        "      "
      ],
      "execution_count": 0,
      "outputs": []
    },
    {
      "metadata": {
        "id": "GADB13QifvPs",
        "colab_type": "code",
        "colab": {}
      },
      "cell_type": "code",
      "source": [
        "peter=Rational(1,2)"
      ],
      "execution_count": 0,
      "outputs": []
    },
    {
      "metadata": {
        "id": "M06aTJXTh136",
        "colab_type": "code",
        "outputId": "4dd7ee7f-ffdb-400f-a7bd-54975c7ff741",
        "colab": {
          "base_uri": "https://localhost:8080/",
          "height": 34
        }
      },
      "cell_type": "code",
      "source": [
        "print(peter)"
      ],
      "execution_count": 8,
      "outputs": [
        {
          "output_type": "stream",
          "text": [
            "1/2\n"
          ],
          "name": "stdout"
        }
      ]
    },
    {
      "metadata": {
        "id": "yCJnemb6iPPm",
        "colab_type": "code",
        "outputId": "c51d6982-89c0-40be-f778-6a2b03ed3805",
        "colab": {
          "base_uri": "https://localhost:8080/",
          "height": 34
        }
      },
      "cell_type": "code",
      "source": [
        "petra = Rational(1,2)\n",
        "peter = Rational(2,4)\n",
        "alice = Rational(3,5)\n",
        "\n",
        "petra == peter"
      ],
      "execution_count": 9,
      "outputs": [
        {
          "output_type": "execute_result",
          "data": {
            "text/plain": [
              "True"
            ]
          },
          "metadata": {
            "tags": []
          },
          "execution_count": 9
        }
      ]
    },
    {
      "metadata": {
        "id": "4m7tf8_3lIZM",
        "colab_type": "code",
        "outputId": "81a4fcc8-0e5c-40c1-fb6e-88533ac03ba8",
        "colab": {
          "base_uri": "https://localhost:8080/",
          "height": 34
        }
      },
      "cell_type": "code",
      "source": [
        "petra == alice"
      ],
      "execution_count": 10,
      "outputs": [
        {
          "output_type": "execute_result",
          "data": {
            "text/plain": [
              "False"
            ]
          },
          "metadata": {
            "tags": []
          },
          "execution_count": 10
        }
      ]
    },
    {
      "metadata": {
        "id": "qNMj6KVslMLE",
        "colab_type": "code",
        "outputId": "a1f8ec2c-b6ee-4f60-a5b2-95bf9a07c65d",
        "colab": {
          "base_uri": "https://localhost:8080/",
          "height": 34
        }
      },
      "cell_type": "code",
      "source": [
        "alice + petra == alice + peter"
      ],
      "execution_count": 11,
      "outputs": [
        {
          "output_type": "execute_result",
          "data": {
            "text/plain": [
              "True"
            ]
          },
          "metadata": {
            "tags": []
          },
          "execution_count": 11
        }
      ]
    },
    {
      "metadata": {
        "id": "Q7pYBKcDnPLM",
        "colab_type": "code",
        "outputId": "11a48b1b-569c-4bae-a840-142c81fd73f5",
        "colab": {
          "base_uri": "https://localhost:8080/",
          "height": 34
        }
      },
      "cell_type": "code",
      "source": [
        "petra - alice == alice - peter"
      ],
      "execution_count": 12,
      "outputs": [
        {
          "output_type": "execute_result",
          "data": {
            "text/plain": [
              "False"
            ]
          },
          "metadata": {
            "tags": []
          },
          "execution_count": 12
        }
      ]
    },
    {
      "metadata": {
        "id": "4PEt1PC9t1a8",
        "colab_type": "code",
        "colab": {}
      },
      "cell_type": "code",
      "source": [
        ""
      ],
      "execution_count": 0,
      "outputs": []
    },
    {
      "metadata": {
        "id": "0guoqbTHuBP9",
        "colab_type": "text"
      },
      "cell_type": "markdown",
      "source": [
        "## [Standard operators as functions](https://docs.python.org/3.3/library/operator.html)"
      ]
    },
    {
      "metadata": {
        "id": "AhNqnWI5uFuy",
        "colab_type": "code",
        "outputId": "be553b6f-fa3c-4486-d24b-07f2d6a0b428",
        "colab": {
          "base_uri": "https://localhost:8080/",
          "height": 34
        }
      },
      "cell_type": "code",
      "source": [
        "petra / alice"
      ],
      "execution_count": 13,
      "outputs": [
        {
          "output_type": "execute_result",
          "data": {
            "text/plain": [
              "Rational(5,6)"
            ]
          },
          "metadata": {
            "tags": []
          },
          "execution_count": 13
        }
      ]
    },
    {
      "metadata": {
        "id": "M2qGXlsmuQ-I",
        "colab_type": "code",
        "outputId": "4f8d2fb3-0945-4adf-d339-296006c9b1bc",
        "colab": {
          "base_uri": "https://localhost:8080/",
          "height": 34
        }
      },
      "cell_type": "code",
      "source": [
        "print(petra / alice)"
      ],
      "execution_count": 14,
      "outputs": [
        {
          "output_type": "stream",
          "text": [
            "5/6\n"
          ],
          "name": "stdout"
        }
      ]
    },
    {
      "metadata": {
        "id": "jUhX8YnlusCu",
        "colab_type": "code",
        "colab": {}
      },
      "cell_type": "code",
      "source": [
        ""
      ],
      "execution_count": 0,
      "outputs": []
    },
    {
      "metadata": {
        "id": "oRyYuSJPx9am",
        "colab_type": "text"
      },
      "cell_type": "markdown",
      "source": [
        "# Iterators in Python\n",
        "\n",
        "---\n",
        "\n",
        "## To iterate over an an object in Python wiht a for-loop, the following steps are performed:\n",
        "\n",
        "\n",
        ">>**1.   Derive an assoicated iterator by applying iter() to the object**\n",
        "\n",
        ">> **2.   The next function is applied to the iterator until a stop iteration exception occurs**\n",
        "\n"
      ]
    },
    {
      "metadata": {
        "id": "JDFH1xzhypWa",
        "colab_type": "code",
        "colab": {
          "base_uri": "https://localhost:8080/",
          "height": 34
        },
        "outputId": "31c3385f-7482-465e-94bf-e73a7fc70f1f"
      },
      "cell_type": "code",
      "source": [
        "a = 'Hey there'\n",
        "\n",
        "aa = iter(a)\n",
        "\n",
        "aa"
      ],
      "execution_count": 15,
      "outputs": [
        {
          "output_type": "execute_result",
          "data": {
            "text/plain": [
              "<iterator at 0x7f72b9d5dfd0>"
            ]
          },
          "metadata": {
            "tags": []
          },
          "execution_count": 15
        }
      ]
    },
    {
      "metadata": {
        "id": "XM4e9n-VzAf9",
        "colab_type": "code",
        "colab": {
          "base_uri": "https://localhost:8080/",
          "height": 34
        },
        "outputId": "cc55394b-c8ab-448d-933e-5d0df1a2d174"
      },
      "cell_type": "code",
      "source": [
        "type(a)"
      ],
      "execution_count": 16,
      "outputs": [
        {
          "output_type": "execute_result",
          "data": {
            "text/plain": [
              "str"
            ]
          },
          "metadata": {
            "tags": []
          },
          "execution_count": 16
        }
      ]
    },
    {
      "metadata": {
        "id": "C9piyVGwzB28",
        "colab_type": "code",
        "colab": {
          "base_uri": "https://localhost:8080/",
          "height": 34
        },
        "outputId": "c4e9bcfd-b47f-4973-9c38-a3e6f1e19cda"
      },
      "cell_type": "code",
      "source": [
        "next(aa)"
      ],
      "execution_count": 17,
      "outputs": [
        {
          "output_type": "execute_result",
          "data": {
            "text/plain": [
              "'H'"
            ]
          },
          "metadata": {
            "tags": []
          },
          "execution_count": 17
        }
      ]
    },
    {
      "metadata": {
        "id": "ES8vtFxnzE0j",
        "colab_type": "code",
        "colab": {
          "base_uri": "https://localhost:8080/",
          "height": 34
        },
        "outputId": "485fb9f9-e67b-4721-8cb7-9f5d3bb5557f"
      },
      "cell_type": "code",
      "source": [
        "next(aa)"
      ],
      "execution_count": 18,
      "outputs": [
        {
          "output_type": "execute_result",
          "data": {
            "text/plain": [
              "'e'"
            ]
          },
          "metadata": {
            "tags": []
          },
          "execution_count": 18
        }
      ]
    },
    {
      "metadata": {
        "id": "rXOcG6MLzGfT",
        "colab_type": "code",
        "colab": {
          "base_uri": "https://localhost:8080/",
          "height": 34
        },
        "outputId": "72a00d61-7f7c-4481-c4cc-9f682b4ace28"
      },
      "cell_type": "code",
      "source": [
        "next(aa)"
      ],
      "execution_count": 19,
      "outputs": [
        {
          "output_type": "execute_result",
          "data": {
            "text/plain": [
              "'y'"
            ]
          },
          "metadata": {
            "tags": []
          },
          "execution_count": 19
        }
      ]
    },
    {
      "metadata": {
        "id": "KC5OlAFNzHBD",
        "colab_type": "code",
        "colab": {
          "base_uri": "https://localhost:8080/",
          "height": 34
        },
        "outputId": "1a3cfeab-6305-4b28-d9d7-8b52454dc2b8"
      },
      "cell_type": "code",
      "source": [
        "next(aa)"
      ],
      "execution_count": 20,
      "outputs": [
        {
          "output_type": "execute_result",
          "data": {
            "text/plain": [
              "' '"
            ]
          },
          "metadata": {
            "tags": []
          },
          "execution_count": 20
        }
      ]
    },
    {
      "metadata": {
        "id": "Y-ChdUZVzHWb",
        "colab_type": "code",
        "colab": {
          "base_uri": "https://localhost:8080/",
          "height": 34
        },
        "outputId": "8a45d7c7-0fa7-45c2-d530-873f256fe87d"
      },
      "cell_type": "code",
      "source": [
        "next(aa)"
      ],
      "execution_count": 21,
      "outputs": [
        {
          "output_type": "execute_result",
          "data": {
            "text/plain": [
              "'t'"
            ]
          },
          "metadata": {
            "tags": []
          },
          "execution_count": 21
        }
      ]
    },
    {
      "metadata": {
        "id": "_agmUOZ8zH1R",
        "colab_type": "code",
        "colab": {
          "base_uri": "https://localhost:8080/",
          "height": 34
        },
        "outputId": "f6a096e1-e0aa-481b-d22b-1ecdfa16cde0"
      },
      "cell_type": "code",
      "source": [
        "next(aa)"
      ],
      "execution_count": 22,
      "outputs": [
        {
          "output_type": "execute_result",
          "data": {
            "text/plain": [
              "'h'"
            ]
          },
          "metadata": {
            "tags": []
          },
          "execution_count": 22
        }
      ]
    },
    {
      "metadata": {
        "id": "Pgde9yXczIOr",
        "colab_type": "code",
        "colab": {
          "base_uri": "https://localhost:8080/",
          "height": 34
        },
        "outputId": "4a057ca2-40fd-406e-95f7-edee864f89bd"
      },
      "cell_type": "code",
      "source": [
        "next(aa)"
      ],
      "execution_count": 23,
      "outputs": [
        {
          "output_type": "execute_result",
          "data": {
            "text/plain": [
              "'e'"
            ]
          },
          "metadata": {
            "tags": []
          },
          "execution_count": 23
        }
      ]
    },
    {
      "metadata": {
        "id": "l34nmk3xzIjD",
        "colab_type": "code",
        "colab": {
          "base_uri": "https://localhost:8080/",
          "height": 34
        },
        "outputId": "5e0ac5b0-015a-43d2-a8b4-2d81714791ab"
      },
      "cell_type": "code",
      "source": [
        "next(aa)"
      ],
      "execution_count": 24,
      "outputs": [
        {
          "output_type": "execute_result",
          "data": {
            "text/plain": [
              "'r'"
            ]
          },
          "metadata": {
            "tags": []
          },
          "execution_count": 24
        }
      ]
    },
    {
      "metadata": {
        "id": "c5Ts0DclzJ2T",
        "colab_type": "code",
        "colab": {
          "base_uri": "https://localhost:8080/",
          "height": 34
        },
        "outputId": "3053efd1-b8dd-4686-ae87-caedd905951f"
      },
      "cell_type": "code",
      "source": [
        "next(aa)"
      ],
      "execution_count": 25,
      "outputs": [
        {
          "output_type": "execute_result",
          "data": {
            "text/plain": [
              "'e'"
            ]
          },
          "metadata": {
            "tags": []
          },
          "execution_count": 25
        }
      ]
    },
    {
      "metadata": {
        "id": "jH_kl35xzL1S",
        "colab_type": "code",
        "colab": {
          "base_uri": "https://localhost:8080/",
          "height": 164
        },
        "outputId": "fa1bed32-f4aa-4540-d339-25ed70367a84"
      },
      "cell_type": "code",
      "source": [
        "next(aa)"
      ],
      "execution_count": 26,
      "outputs": [
        {
          "output_type": "error",
          "ename": "StopIteration",
          "evalue": "ignored",
          "traceback": [
            "\u001b[0;31m\u001b[0m",
            "\u001b[0;31mStopIteration\u001b[0mTraceback (most recent call last)",
            "\u001b[0;32m<ipython-input-26-4e14a8ea1ec1>\u001b[0m in \u001b[0;36m<module>\u001b[0;34m()\u001b[0m\n\u001b[0;32m----> 1\u001b[0;31m \u001b[0mnext\u001b[0m\u001b[0;34m(\u001b[0m\u001b[0maa\u001b[0m\u001b[0;34m)\u001b[0m\u001b[0;34m\u001b[0m\u001b[0m\n\u001b[0m",
            "\u001b[0;31mStopIteration\u001b[0m: "
          ]
        }
      ]
    },
    {
      "metadata": {
        "id": "FdU5afXIzlas",
        "colab_type": "code",
        "colab": {
          "base_uri": "https://localhost:8080/",
          "height": 164
        },
        "outputId": "88a46231-1adc-4b84-e49c-830bfdd10363"
      },
      "cell_type": "code",
      "source": [
        "next(aa)"
      ],
      "execution_count": 27,
      "outputs": [
        {
          "output_type": "error",
          "ename": "StopIteration",
          "evalue": "ignored",
          "traceback": [
            "\u001b[0;31m\u001b[0m",
            "\u001b[0;31mStopIteration\u001b[0mTraceback (most recent call last)",
            "\u001b[0;32m<ipython-input-27-4e14a8ea1ec1>\u001b[0m in \u001b[0;36m<module>\u001b[0;34m()\u001b[0m\n\u001b[0;32m----> 1\u001b[0;31m \u001b[0mnext\u001b[0m\u001b[0;34m(\u001b[0m\u001b[0maa\u001b[0m\u001b[0;34m)\u001b[0m\u001b[0;34m\u001b[0m\u001b[0m\n\u001b[0m",
            "\u001b[0;31mStopIteration\u001b[0m: "
          ]
        }
      ]
    },
    {
      "metadata": {
        "id": "JU1bC5M_z0KV",
        "colab_type": "code",
        "colab": {}
      },
      "cell_type": "code",
      "source": [
        "class SmallMatrix:\n",
        "  def __init__(self, m11, m12, m21, m22):\n",
        "    self.row1 = (m11, m12,)\n",
        "    self.row2 = (m21, m22,)\n",
        "    \n",
        "  def __str__(self):\n",
        "    '''convert fraction to string'''\n",
        "    row1_string =  str( self.row1[0] ) + ' ' + str( self.row1[1] )\n",
        "    row2_string =  str( self.row2[0] ) + ' ' + str( self.row1[1] )\n",
        "    return row1_string + '\\n' + row2_string\n",
        "  \n",
        "  def __iter__(self):\n",
        "    self._counter = 0 #common conventon in python code. A single underscore means for private use only\n",
        "    return self\n",
        "  \n",
        "  def __next__(self):\n",
        "  \n",
        "    if self._counter == 0:\n",
        "      self_counter += 1\n",
        "      return self.row1[0]\n",
        "    \n",
        "    if self._counter == 1:\n",
        "      self_counter += 1\n",
        "      return self.row1[1]\n",
        "    \n",
        "    if self._counter == 2:\n",
        "      self_counter += 1\n",
        "      return self.row2[0]\n",
        "    \n",
        "    if self._counter == 3:\n",
        "      self_counter += 1\n",
        "      return self.row2[1]\n",
        "    \n",
        "    raise StopIteration\n",
        "    "
      ],
      "execution_count": 0,
      "outputs": []
    },
    {
      "metadata": {
        "id": "wFUhRbMN1lf1",
        "colab_type": "code",
        "colab": {
          "base_uri": "https://localhost:8080/",
          "height": 181
        },
        "outputId": "e38a2a12-2ee1-4040-8b83-e472c85d19cb"
      },
      "cell_type": "code",
      "source": [
        "a = SmallMatrix(42, 0, 9, 18)\n",
        "for i in a:print(i)"
      ],
      "execution_count": 45,
      "outputs": [
        {
          "output_type": "error",
          "ename": "TypeError",
          "evalue": "ignored",
          "traceback": [
            "\u001b[0;31m\u001b[0m",
            "\u001b[0;31mTypeError\u001b[0mTraceback (most recent call last)",
            "\u001b[0;32m<ipython-input-45-e776de98bd5f>\u001b[0m in \u001b[0;36m<module>\u001b[0;34m()\u001b[0m\n\u001b[1;32m      1\u001b[0m \u001b[0ma\u001b[0m \u001b[0;34m=\u001b[0m \u001b[0mSmallMatrix\u001b[0m\u001b[0;34m(\u001b[0m\u001b[0;36m42\u001b[0m\u001b[0;34m,\u001b[0m \u001b[0;36m0\u001b[0m\u001b[0;34m,\u001b[0m \u001b[0;36m9\u001b[0m\u001b[0;34m,\u001b[0m \u001b[0;36m18\u001b[0m\u001b[0;34m)\u001b[0m\u001b[0;34m\u001b[0m\u001b[0m\n\u001b[0;32m----> 2\u001b[0;31m \u001b[0;32mfor\u001b[0m \u001b[0mi\u001b[0m \u001b[0;32min\u001b[0m \u001b[0ma\u001b[0m\u001b[0;34m:\u001b[0m\u001b[0;32mprint\u001b[0m\u001b[0;34m(\u001b[0m\u001b[0mi\u001b[0m\u001b[0;34m)\u001b[0m\u001b[0;34m\u001b[0m\u001b[0m\n\u001b[0m",
            "\u001b[0;31mTypeError\u001b[0m: instance has no next() method"
          ]
        }
      ]
    },
    {
      "metadata": {
        "id": "R1xOPfjH8m0n",
        "colab_type": "text"
      },
      "cell_type": "markdown",
      "source": [
        "# Generators in Python\n",
        "\n",
        "---\n",
        "\n",
        "##  Often, we can work with a generator which saves us from implementing __next__ and __iter__. Generators look just like functions, but instead of \"return\" they use yeild. When a generator is called repeatedly. It continues after the yeild statement, maintaining all values from the prior call.\n",
        "\n"
      ]
    },
    {
      "metadata": {
        "id": "OFdf8y7_75Jm",
        "colab_type": "code",
        "colab": {}
      },
      "cell_type": "code",
      "source": [
        "def squares():\n",
        "  a = 0\n",
        "  while True:\n",
        "    yield a * a\n",
        "    a+=1"
      ],
      "execution_count": 0,
      "outputs": []
    },
    {
      "metadata": {
        "id": "uUeMYkYy-coM",
        "colab_type": "code",
        "colab": {}
      },
      "cell_type": "code",
      "source": [
        "g = squares()"
      ],
      "execution_count": 0,
      "outputs": []
    },
    {
      "metadata": {
        "id": "w3N9xRAi-iSu",
        "colab_type": "code",
        "colab": {
          "base_uri": "https://localhost:8080/",
          "height": 34
        },
        "outputId": "e1470a63-69de-4466-8c71-82f6902bb585"
      },
      "cell_type": "code",
      "source": [
        "next(g)"
      ],
      "execution_count": 50,
      "outputs": [
        {
          "output_type": "execute_result",
          "data": {
            "text/plain": [
              "0"
            ]
          },
          "metadata": {
            "tags": []
          },
          "execution_count": 50
        }
      ]
    },
    {
      "metadata": {
        "id": "f5t5YeV8-j5W",
        "colab_type": "code",
        "colab": {
          "base_uri": "https://localhost:8080/",
          "height": 34
        },
        "outputId": "5064e38d-471c-4b10-b857-fa7a27188182"
      },
      "cell_type": "code",
      "source": [
        "next(g)"
      ],
      "execution_count": 51,
      "outputs": [
        {
          "output_type": "execute_result",
          "data": {
            "text/plain": [
              "1"
            ]
          },
          "metadata": {
            "tags": []
          },
          "execution_count": 51
        }
      ]
    },
    {
      "metadata": {
        "id": "e-Pa3AP7-lds",
        "colab_type": "code",
        "colab": {
          "base_uri": "https://localhost:8080/",
          "height": 34
        },
        "outputId": "65a23cd7-f865-4a1a-ff9a-2bbd7cb1c34c"
      },
      "cell_type": "code",
      "source": [
        "next(g)"
      ],
      "execution_count": 52,
      "outputs": [
        {
          "output_type": "execute_result",
          "data": {
            "text/plain": [
              "4"
            ]
          },
          "metadata": {
            "tags": []
          },
          "execution_count": 52
        }
      ]
    },
    {
      "metadata": {
        "id": "pF4vyF5N-l9E",
        "colab_type": "code",
        "colab": {
          "base_uri": "https://localhost:8080/",
          "height": 34
        },
        "outputId": "f84a7c48-0ea6-4d3a-da08-9e793100db87"
      },
      "cell_type": "code",
      "source": [
        "next(g)"
      ],
      "execution_count": 53,
      "outputs": [
        {
          "output_type": "execute_result",
          "data": {
            "text/plain": [
              "9"
            ]
          },
          "metadata": {
            "tags": []
          },
          "execution_count": 53
        }
      ]
    },
    {
      "metadata": {
        "id": "gdYaP9QH-mZE",
        "colab_type": "code",
        "colab": {
          "base_uri": "https://localhost:8080/",
          "height": 34
        },
        "outputId": "06be9ec1-a846-4653-de8b-4bd145ce7c45"
      },
      "cell_type": "code",
      "source": [
        "next(g)"
      ],
      "execution_count": 54,
      "outputs": [
        {
          "output_type": "execute_result",
          "data": {
            "text/plain": [
              "16"
            ]
          },
          "metadata": {
            "tags": []
          },
          "execution_count": 54
        }
      ]
    },
    {
      "metadata": {
        "id": "Oj195sti-m_V",
        "colab_type": "code",
        "colab": {
          "base_uri": "https://localhost:8080/",
          "height": 867
        },
        "outputId": "72e0d024-4109-46cd-f6bd-09a0eb334734"
      },
      "cell_type": "code",
      "source": [
        "[next(g) for i in range(50)]"
      ],
      "execution_count": 62,
      "outputs": [
        {
          "output_type": "execute_result",
          "data": {
            "text/plain": [
              "[93025,\n",
              " 93636,\n",
              " 94249,\n",
              " 94864,\n",
              " 95481,\n",
              " 96100,\n",
              " 96721,\n",
              " 97344,\n",
              " 97969,\n",
              " 98596,\n",
              " 99225,\n",
              " 99856,\n",
              " 100489,\n",
              " 101124,\n",
              " 101761,\n",
              " 102400,\n",
              " 103041,\n",
              " 103684,\n",
              " 104329,\n",
              " 104976,\n",
              " 105625,\n",
              " 106276,\n",
              " 106929,\n",
              " 107584,\n",
              " 108241,\n",
              " 108900,\n",
              " 109561,\n",
              " 110224,\n",
              " 110889,\n",
              " 111556,\n",
              " 112225,\n",
              " 112896,\n",
              " 113569,\n",
              " 114244,\n",
              " 114921,\n",
              " 115600,\n",
              " 116281,\n",
              " 116964,\n",
              " 117649,\n",
              " 118336,\n",
              " 119025,\n",
              " 119716,\n",
              " 120409,\n",
              " 121104,\n",
              " 121801,\n",
              " 122500,\n",
              " 123201,\n",
              " 123904,\n",
              " 124609,\n",
              " 125316]"
            ]
          },
          "metadata": {
            "tags": []
          },
          "execution_count": 62
        }
      ]
    },
    {
      "metadata": {
        "id": "BrdI8YFL-tRv",
        "colab_type": "code",
        "colab": {}
      },
      "cell_type": "code",
      "source": [
        "def is_prime(m):\n",
        "  ''' return True if and only if n is a prime number'''\n",
        "  n = abs(m)\n",
        "  if n == 0 or n==1 or (n%2 == 0 and n>2):\n",
        "    return False\n",
        "  \n",
        "  for i in range(3, int(n ** (1/2)+1), 2):\n",
        "    if n%i ==0:\n",
        "      return False\n",
        "  return True\n",
        "\n"
      ],
      "execution_count": 0,
      "outputs": []
    },
    {
      "metadata": {
        "id": "bjyL--1y_iZz",
        "colab_type": "code",
        "colab": {}
      },
      "cell_type": "code",
      "source": [
        "def Endless_Primes():\n",
        "  yield 2\n",
        "  n+=3 \n",
        "  while True:\n",
        "    if isprime(n):\n",
        "      yield  n\n",
        "    n+=12\n",
        "    "
      ],
      "execution_count": 0,
      "outputs": []
    },
    {
      "metadata": {
        "id": "qqAVViOs_waz",
        "colab_type": "code",
        "colab": {
          "base_uri": "https://localhost:8080/",
          "height": 130
        },
        "outputId": "9364b7de-8468-4287-c383-4300afc5a4b1"
      },
      "cell_type": "code",
      "source": [
        ""
      ],
      "execution_count": 65,
      "outputs": [
        {
          "output_type": "error",
          "ename": "SyntaxError",
          "evalue": "ignored",
          "traceback": [
            "\u001b[0;36m  File \u001b[0;32m\"<ipython-input-65-6abfc022157d>\"\u001b[0;36m, line \u001b[0;32m1\u001b[0m\n\u001b[0;31m    Endless_Primes Endless_Primes(\u001b[0m\n\u001b[0m                                ^\u001b[0m\n\u001b[0;31mSyntaxError\u001b[0m\u001b[0;31m:\u001b[0m invalid syntax\n"
          ]
        }
      ]
    },
    {
      "metadata": {
        "id": "GtexHZP3CSnh",
        "colab_type": "code",
        "colab": {}
      },
      "cell_type": "code",
      "source": [
        "def twinprimes():\n",
        "  a = 3 \n",
        "  while True:\n",
        "    if is_prime(a) == True and is_prime(b) == True:\n",
        "      yield a + b\n",
        "      a += 2"
      ],
      "execution_count": 0,
      "outputs": []
    },
    {
      "metadata": {
        "id": "oUE2GJSrDEoQ",
        "colab_type": "code",
        "colab": {
          "base_uri": "https://localhost:8080/",
          "height": 357
        },
        "outputId": "2c7e39b0-f833-48ed-cc83-a893105df365"
      },
      "cell_type": "code",
      "source": [
        "[next(g) for i in range (20)]"
      ],
      "execution_count": 67,
      "outputs": [
        {
          "output_type": "execute_result",
          "data": {
            "text/plain": [
              "[126025,\n",
              " 126736,\n",
              " 127449,\n",
              " 128164,\n",
              " 128881,\n",
              " 129600,\n",
              " 130321,\n",
              " 131044,\n",
              " 131769,\n",
              " 132496,\n",
              " 133225,\n",
              " 133956,\n",
              " 134689,\n",
              " 135424,\n",
              " 136161,\n",
              " 136900,\n",
              " 137641,\n",
              " 138384,\n",
              " 139129,\n",
              " 139876]"
            ]
          },
          "metadata": {
            "tags": []
          },
          "execution_count": 67
        }
      ]
    },
    {
      "metadata": {
        "id": "MA6zUE92DJB7",
        "colab_type": "code",
        "colab": {}
      },
      "cell_type": "code",
      "source": [
        "k = twinprimes()"
      ],
      "execution_count": 0,
      "outputs": []
    },
    {
      "metadata": {
        "id": "L0fgQgxlDMxd",
        "colab_type": "code",
        "colab": {
          "base_uri": "https://localhost:8080/",
          "height": 164
        },
        "outputId": "f974bf3d-71da-4213-ab59-ca8bdd82604c"
      },
      "cell_type": "code",
      "source": [
        "[next(k) for i in range (20)]"
      ],
      "execution_count": 1,
      "outputs": [
        {
          "output_type": "error",
          "ename": "NameError",
          "evalue": "ignored",
          "traceback": [
            "\u001b[0;31m\u001b[0m",
            "\u001b[0;31mNameError\u001b[0mTraceback (most recent call last)",
            "\u001b[0;32m<ipython-input-1-b8879ee6580d>\u001b[0m in \u001b[0;36m<module>\u001b[0;34m()\u001b[0m\n\u001b[0;32m----> 1\u001b[0;31m \u001b[0;34m[\u001b[0m\u001b[0mnext\u001b[0m\u001b[0;34m(\u001b[0m\u001b[0mk\u001b[0m\u001b[0;34m)\u001b[0m \u001b[0;32mfor\u001b[0m \u001b[0mi\u001b[0m \u001b[0;32min\u001b[0m \u001b[0mrange\u001b[0m \u001b[0;34m(\u001b[0m\u001b[0;36m20\u001b[0m\u001b[0;34m)\u001b[0m\u001b[0;34m]\u001b[0m\u001b[0;34m\u001b[0m\u001b[0m\n\u001b[0m",
            "\u001b[0;31mNameError\u001b[0m: name 'k' is not defined"
          ]
        }
      ]
    }
  ]
}
