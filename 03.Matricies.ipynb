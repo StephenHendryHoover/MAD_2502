{
  "nbformat": 4,
  "nbformat_minor": 0,
  "metadata": {
    "colab": {
      "name": "SEP13_matricies.ipynb",
      "version": "0.3.2",
      "provenance": [],
      "collapsed_sections": []
    },
    "kernelspec": {
      "name": "python3",
      "display_name": "Python 3"
    },
    "accelerator": "GPU"
  },
  "cells": [
    {
      "metadata": {
        "id": "5VGMDj23hmNo",
        "colab_type": "code",
        "colab": {}
      },
      "cell_type": "code",
      "source": [
        "#!/usr/bin/env python3\n",
        "\n",
        "##################################################################################################\n",
        "#                         INTRO TO COMPUTATIONAL MATHEMATICS WITH PYTHON                         #\n",
        "##################################################################################################\n",
        "\n",
        "m1 = [0,1,2], [2,3,4], [4,5,6]\n",
        "m2 = [5,6,7], [1,0,8], [9,2,3]"
      ],
      "execution_count": 0,
      "outputs": []
    },
    {
      "metadata": {
        "id": "mx09kAKSk5LO",
        "colab_type": "code",
        "colab": {
          "base_uri": "https://localhost:8080/",
          "height": 34
        },
        "outputId": "285278b7-5ae8-42d6-a30c-7df762ace484"
      },
      "cell_type": "code",
      "source": [
        "# Matrix addition with for loops\n",
        "\n",
        "\n",
        "def add_matrices(m1, m2):\n",
        "    '''compute the sum of two square matrices'''\n",
        "    dim = len(m1)\n",
        "\n",
        "    m3 = [dim*[0] for i in range(dim)] # creates a list of zeros (zero-matrix) given an integer\n",
        "    \n",
        "    for i in range(0, dim):\n",
        "        for j in range (dim):\n",
        "            m3[i][j] = m1[i][j] + m2[i][j]\n",
        "    return m3\n",
        "add_matrices(m1, m2)"
      ],
      "execution_count": 2,
      "outputs": [
        {
          "output_type": "execute_result",
          "data": {
            "text/plain": [
              "[[5, 7, 9], [3, 3, 12], [13, 7, 9]]"
            ]
          },
          "metadata": {
            "tags": []
          },
          "execution_count": 2
        }
      ]
    },
    {
      "metadata": {
        "id": "ipEEZVcIk8U5",
        "colab_type": "code",
        "colab": {
          "base_uri": "https://localhost:8080/",
          "height": 34
        },
        "outputId": "87a975bf-7a59-43b0-d892-3f9200e28d10"
      },
      "cell_type": "code",
      "source": [
        "# Matrix addition with list comprehension\n",
        "\n",
        "\n",
        "def add_matrices_list_comp(m1, m2):\n",
        "    '''compute the sum of two square matrices with list comprehension'''\n",
        "    dim = len(m1)    \n",
        "    return [[m1[i][j] + m2[i][j] for j in range(dim)] for i in range (dim)]\n",
        "\n",
        "add_matrices_list_comp(m1, m2)"
      ],
      "execution_count": 3,
      "outputs": [
        {
          "output_type": "execute_result",
          "data": {
            "text/plain": [
              "[[5, 7, 9], [3, 3, 12], [13, 7, 9]]"
            ]
          },
          "metadata": {
            "tags": []
          },
          "execution_count": 3
        }
      ]
    },
    {
      "metadata": {
        "id": "Jd61mTECk_nL",
        "colab_type": "code",
        "colab": {
          "base_uri": "https://localhost:8080/",
          "height": 51
        },
        "outputId": "ed469784-4513-48de-a26f-994ac1ffdecb"
      },
      "cell_type": "code",
      "source": [
        "m1 = [[0,1], [2,3], [4,5]]\n",
        "print('Width', len(m1[0])) # Width\n",
        "print('Height', len(m1)) # Height"
      ],
      "execution_count": 4,
      "outputs": [
        {
          "output_type": "stream",
          "text": [
            "Width 2\n",
            "Height 3\n"
          ],
          "name": "stdout"
        }
      ]
    },
    {
      "metadata": {
        "id": "vKUuy7bOlCBc",
        "colab_type": "code",
        "colab": {}
      },
      "cell_type": "code",
      "source": [
        "# Matrix multiplication with\n",
        "\n",
        "def matrix_product(m1,m2):\n",
        "    m1_width = len(m1[0])\n",
        "    m2_width = len(m2[0]) \n",
        "    m1_height = len(m1) \n",
        "    m2_height = len(m2) \n",
        "    \n",
        "    if m1_width == m2_height:\n",
        "        mproduct = [dim*[0] for i in range(dim)]"
      ],
      "execution_count": 0,
      "outputs": []
    },
    {
      "metadata": {
        "id": "LWfhUxdmlKVw",
        "colab_type": "code",
        "colab": {
          "base_uri": "https://localhost:8080/",
          "height": 34
        },
        "outputId": "bd1a5b5b-25a1-4fe6-b574-32ecb865506e"
      },
      "cell_type": "code",
      "source": [
        "# Matrix multiplication in class example.\n",
        "\n",
        "def matrix_product_in_class(m1,m2):\n",
        "  '''multiplies two matricies represented as a list of lists'''\n",
        "  row = len(m1)\n",
        "  col = len(m2[0])\n",
        "  m3 = [col*[0] for i in range(row)]\n",
        "  \n",
        "  for i in range(row):\n",
        "    for j in range(col):\n",
        "      for k in range(len(m1[0])):\n",
        "        m3[i][j] = m3[i][j] + (m1[i][k] * m2[k][j])\n",
        "  return m3\n",
        "\n",
        "matrix_product_in_class(m1,m2)\n"
      ],
      "execution_count": 6,
      "outputs": [
        {
          "output_type": "execute_result",
          "data": {
            "text/plain": [
              "[[1, 0, 8], [13, 12, 38], [25, 24, 68]]"
            ]
          },
          "metadata": {
            "tags": []
          },
          "execution_count": 6
        }
      ]
    }
  ]
}
