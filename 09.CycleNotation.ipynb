{
  "nbformat": 4,
  "nbformat_minor": 0,
  "metadata": {
    "colab": {
      "name": "CycleNotation.ipynb",
      "version": "0.3.2",
      "provenance": [],
      "collapsed_sections": []
    }
  },
  "cells": [
    {
      "metadata": {
        "id": "d0D_PX3wdXVT",
        "colab_type": "text"
      },
      "cell_type": "markdown",
      "source": [
        "# Cycle Notation\n",
        "\n",
        "p1 = [0, 1, 2, 3, 4, 5, 6, 7]\n",
        "\n",
        "p2 = [5, 3, 7, 2, 1 6, 0, 4,]\n",
        "\n",
        "can be written as:\n",
        "\n",
        "(056) (13274)"
      ]
    },
    {
      "metadata": {
        "id": "deG4Rk_ecuzI",
        "colab_type": "text"
      },
      "cell_type": "markdown",
      "source": [
        "![alt text](https://upload.wikimedia.org/wikipedia/commons/thumb/8/86/Symmetric_group_4%3B_Cayley_graph_4%2C9%3B_numbers.svg/2000px-Symmetric_group_4%3B_Cayley_graph_4%2C9%3B_numbers.svg.png)"
      ]
    },
    {
      "metadata": {
        "id": "UhkpcnUgc-Dw",
        "colab_type": "code",
        "colab": {}
      },
      "cell_type": "code",
      "source": [
        ""
      ],
      "execution_count": 0,
      "outputs": []
    },
    {
      "metadata": {
        "id": "LzA6srFJfBBe",
        "colab_type": "text"
      },
      "cell_type": "markdown",
      "source": [
        "## Task\n",
        "\n",
        "**Write a function with one argument that takes a permutation the returns a list of cycles in disjoint cycle notation.**"
      ]
    },
    {
      "metadata": {
        "id": "EvsNz8qxfOmd",
        "colab_type": "code",
        "colab": {
          "base_uri": "https://localhost:8080/",
          "height": 34
        },
        "outputId": "e540a612-583e-4b39-a790-b2251530f920"
      },
      "cell_type": "code",
      "source": [
        "def table2cycle(perm):\n",
        "  '''convert table to a list of disjoint cycles '''\n",
        "  to_do = perm[:]   # numbers still to be processed\n",
        "  cycles = []       # eventually holds the list of cycles\n",
        "  \n",
        "  while len(to_do) > 0:   # work still needs to be done\n",
        "    cycle = []       # stores the final list of cycles so it can be returned as a single variable at the end\n",
        "    image = to_do[0] # pick a starting element for a new cycle \n",
        "    \n",
        "    while not(image in cycle):\n",
        "      cycle.append(image) # add an element  to curent cycle\n",
        "      to_do.remove(image) # remove the element added from to_do list\n",
        "      image = perm[image] # find next cycle entry\n",
        "    \n",
        "    cycles.append(cycle)  # store complete cycle\n",
        "  return cycles           # return result\n",
        "\n",
        "table2cycle([1,2,3,0,6,5,4])"
      ],
      "execution_count": 1,
      "outputs": [
        {
          "output_type": "execute_result",
          "data": {
            "text/plain": [
              "[[1, 2, 3, 0], [6, 4], [5]]"
            ]
          },
          "metadata": {
            "tags": []
          },
          "execution_count": 1
        }
      ]
    },
    {
      "metadata": {
        "id": "TMMkJNZDfuT-",
        "colab_type": "code",
        "colab": {
          "base_uri": "https://localhost:8080/",
          "height": 198
        },
        "outputId": "7b0a69d2-b495-4311-923f-c8033c83d934"
      },
      "cell_type": "code",
      "source": [
        "def smaller_prime(n):\n",
        "  L=[0]\n",
        "  for x in range(n+1):\n",
        "    if x > 1:\n",
        "      for k in range(2, x):\n",
        "        if (x % k) == 0:\n",
        "          break\n",
        "      else:\n",
        "        L[0] = x\n",
        "  return(L[0])\n",
        "find_prime(10)"
      ],
      "execution_count": 2,
      "outputs": [
        {
          "output_type": "error",
          "ename": "NameError",
          "evalue": "ignored",
          "traceback": [
            "\u001b[0;31m\u001b[0m",
            "\u001b[0;31mNameError\u001b[0mTraceback (most recent call last)",
            "\u001b[0;32m<ipython-input-2-48f93f2ac440>\u001b[0m in \u001b[0;36m<module>\u001b[0;34m()\u001b[0m\n\u001b[1;32m      9\u001b[0m         \u001b[0mL\u001b[0m\u001b[0;34m[\u001b[0m\u001b[0;36m0\u001b[0m\u001b[0;34m]\u001b[0m \u001b[0;34m=\u001b[0m \u001b[0mx\u001b[0m\u001b[0;34m\u001b[0m\u001b[0m\n\u001b[1;32m     10\u001b[0m   \u001b[0;32mreturn\u001b[0m\u001b[0;34m(\u001b[0m\u001b[0mL\u001b[0m\u001b[0;34m[\u001b[0m\u001b[0;36m0\u001b[0m\u001b[0;34m]\u001b[0m\u001b[0;34m)\u001b[0m\u001b[0;34m\u001b[0m\u001b[0m\n\u001b[0;32m---> 11\u001b[0;31m \u001b[0mfind_prime\u001b[0m\u001b[0;34m(\u001b[0m\u001b[0;36m10\u001b[0m\u001b[0;34m)\u001b[0m\u001b[0;34m\u001b[0m\u001b[0m\n\u001b[0m",
            "\u001b[0;31mNameError\u001b[0m: name 'find_prime' is not defined"
          ]
        }
      ]
    },
    {
      "metadata": {
        "id": "kvUWxvl4445M",
        "colab_type": "code",
        "colab": {}
      },
      "cell_type": "code",
      "source": [
        "def find_prime(n):\n",
        "  for x in range(0,n + 1):\n",
        "    if x > 1:\n",
        "      for i in range(2,x):\n",
        "        if (x % i) == 0:\n",
        "          break\n",
        "      else:\n",
        "          return(x)"
      ],
      "execution_count": 0,
      "outputs": []
    },
    {
      "metadata": {
        "id": "EDgQbgfF76AM",
        "colab_type": "code",
        "colab": {
          "base_uri": "https://localhost:8080/",
          "height": 34
        },
        "outputId": "c630c84d-b476-49a2-c0cc-411960d71e35"
      },
      "cell_type": "code",
      "source": [
        "find_prime(10)"
      ],
      "execution_count": 17,
      "outputs": [
        {
          "output_type": "execute_result",
          "data": {
            "text/plain": [
              "2"
            ]
          },
          "metadata": {
            "tags": []
          },
          "execution_count": 17
        }
      ]
    }
  ]
}
