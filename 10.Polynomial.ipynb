{
  "nbformat": 4,
  "nbformat_minor": 0,
  "metadata": {
    "colab": {
      "name": "Polynomial.ipynb",
      "version": "0.3.2",
      "provenance": [],
      "collapsed_sections": []
    },
    "kernelspec": {
      "name": "python3",
      "display_name": "Python 3"
    }
  },
  "cells": [
    {
      "metadata": {
        "id": "S5lD4kpg5fkv",
        "colab_type": "text"
      },
      "cell_type": "markdown",
      "source": [
        "# Working with Polynomials in Python"
      ]
    },
    {
      "metadata": {
        "id": "K996hZNh3p1V",
        "colab_type": "code",
        "colab": {}
      },
      "cell_type": "code",
      "source": [
        "class Polynomial:\n",
        "  '''univariate polynomials'''\n",
        "  \n",
        "  def _removeZeros(self):\n",
        "    '''deleted leading zero coefficients'''\n",
        "    try:\n",
        "      while self.coeffs[-1] == 0:               # check if the last coefficient equals zero\n",
        "        del self.coeffs[-1]\n",
        "    except IndexError:\n",
        "      pass\n",
        "  \n",
        "  def __init__(self, coeffs, variable = 'x'):\n",
        "    '''initialize a ploynomial'''\n",
        "    \n",
        "    if any(type(i) != int for i in coeffs):\n",
        "      raise TypeError('only integer coefficients allowed')\n",
        "    \n",
        "    self.var = variable[:]\n",
        "    self.coeffs = coeffs[:] \n",
        "    self._removeZeros()\n",
        "  \n",
        "  def __eq__(self, other):\n",
        "    '''equality of polynomials'''\n",
        "    return (self.var == other.var and self.coeffs == other.coeffs)\n",
        "  \n",
        "  def __add__(self, other):\n",
        "    '''addition of polynomials'''\n",
        "    if self.var != other.var:\n",
        "      raise ValueError('variables must be identical')\n",
        "    \n",
        "    return [type(i) for i in self.coeffs]\n",
        "\n",
        "  def __sub__(self, other):\n",
        "    '''subtraction of polynomials'''\n",
        "    if self.var != other.var:\n",
        "      raise ValueError('variables must be identical')\n",
        "      \n",
        "      \n",
        "      \n",
        "\n",
        "    \n",
        "    "
      ],
      "execution_count": 0,
      "outputs": []
    },
    {
      "metadata": {
        "id": "yjTAY2LK8NCg",
        "colab_type": "code",
        "colab": {
          "base_uri": "https://localhost:8080/",
          "height": 34
        },
        "outputId": "741fa8fc-8d96-4237-9b77-c273180d2599"
      },
      "cell_type": "code",
      "source": [
        "a = Polynomial([0,0,0])\n",
        "a.coeffs"
      ],
      "execution_count": 28,
      "outputs": [
        {
          "output_type": "execute_result",
          "data": {
            "text/plain": [
              "[]"
            ]
          },
          "metadata": {
            "tags": []
          },
          "execution_count": 28
        }
      ]
    },
    {
      "metadata": {
        "id": "zypZgAZi-SwX",
        "colab_type": "code",
        "colab": {}
      },
      "cell_type": "code",
      "source": [
        "a = Polynomial([0, 1, 3, 4, 5, 6, 80, 0, 0])"
      ],
      "execution_count": 0,
      "outputs": []
    },
    {
      "metadata": {
        "id": "DYYoUaqf-_lv",
        "colab_type": "code",
        "colab": {
          "base_uri": "https://localhost:8080/",
          "height": 34
        },
        "outputId": "4b1873a4-0c79-473a-cff8-f43bba18a866"
      },
      "cell_type": "code",
      "source": [
        "a.coeffs"
      ],
      "execution_count": 30,
      "outputs": [
        {
          "output_type": "execute_result",
          "data": {
            "text/plain": [
              "[0, 1, 3, 4, 5, 6, 80]"
            ]
          },
          "metadata": {
            "tags": []
          },
          "execution_count": 30
        }
      ]
    },
    {
      "metadata": {
        "id": "h83foKxW_A2e",
        "colab_type": "code",
        "colab": {
          "base_uri": "https://localhost:8080/",
          "height": 34
        },
        "outputId": "6c672c8e-e9fe-4fb9-bdae-27e56ac52e4c"
      },
      "cell_type": "code",
      "source": [
        "a = Polynomial([1, 2])\n",
        "b = Polynomial([1, 2])\n",
        "a == b"
      ],
      "execution_count": 31,
      "outputs": [
        {
          "output_type": "execute_result",
          "data": {
            "text/plain": [
              "True"
            ]
          },
          "metadata": {
            "tags": []
          },
          "execution_count": 31
        }
      ]
    },
    {
      "metadata": {
        "id": "Nh3ufIUFAgK1",
        "colab_type": "code",
        "colab": {
          "base_uri": "https://localhost:8080/",
          "height": 34
        },
        "outputId": "0e431080-d773-4f39-df89-277be6712600"
      },
      "cell_type": "code",
      "source": [
        "a = Polynomial([1, 2])\n",
        "c = Polynomial([1, 2], 'goody')\n",
        "a == c"
      ],
      "execution_count": 32,
      "outputs": [
        {
          "output_type": "execute_result",
          "data": {
            "text/plain": [
              "False"
            ]
          },
          "metadata": {
            "tags": []
          },
          "execution_count": 32
        }
      ]
    },
    {
      "metadata": {
        "id": "sLzay24LAmTc",
        "colab_type": "code",
        "colab": {
          "base_uri": "https://localhost:8080/",
          "height": 34
        },
        "outputId": "e8d356a3-d7bd-4448-c7ed-74bbfae98d0f"
      },
      "cell_type": "code",
      "source": [
        "a = Polynomial([1, 2])\n",
        "d = Polynomial([1, 2, 8, 170, 0, 0])\n",
        "a == d"
      ],
      "execution_count": 35,
      "outputs": [
        {
          "output_type": "execute_result",
          "data": {
            "text/plain": [
              "False"
            ]
          },
          "metadata": {
            "tags": []
          },
          "execution_count": 35
        }
      ]
    },
    {
      "metadata": {
        "id": "m1WErM96BsMj",
        "colab_type": "code",
        "colab": {
          "base_uri": "https://localhost:8080/",
          "height": 34
        },
        "outputId": "cca1ce2b-3a1d-426e-9111-e13f0c8e50d9"
      },
      "cell_type": "code",
      "source": [
        "e = Polynomial([1, 0, 0, 0, 0])\n",
        "f = Polynomial([1, 0, 0, 0, 0])\n",
        "e == f"
      ],
      "execution_count": 36,
      "outputs": [
        {
          "output_type": "execute_result",
          "data": {
            "text/plain": [
              "True"
            ]
          },
          "metadata": {
            "tags": []
          },
          "execution_count": 36
        }
      ]
    },
    {
      "metadata": {
        "id": "bppob-yGBxLJ",
        "colab_type": "code",
        "colab": {}
      },
      "cell_type": "code",
      "source": [
        ""
      ],
      "execution_count": 0,
      "outputs": []
    }
  ]
}