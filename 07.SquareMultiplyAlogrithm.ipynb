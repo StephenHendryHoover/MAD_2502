{
  "nbformat": 4,
  "nbformat_minor": 0,
  "metadata": {
    "colab": {
      "name": "SquareMultiplyAlogrithm.ipynb",
      "version": "0.3.2",
      "provenance": [],
      "collapsed_sections": []
    },
    "kernelspec": {
      "name": "python3",
      "display_name": "Python 3"
    }
  },
  "cells": [
    {
      "metadata": {
        "id": "DE1_1omriUs-",
        "colab_type": "text"
      },
      "cell_type": "markdown",
      "source": [
        "# Square Multiply Alogrithm:\n",
        "## Exponentation: $3^{5}, 4^{10}, \\text{or N}^{37} $ and so on.\n",
        "\n",
        "## Direct way: multiply the base over and over again. For small base and small exponent, it does not consume a lot of computation.\n",
        "\n",
        "## A more effective techniques is called the ''*Square and Multiplication Algorithm*''\n",
        "\n",
        "## How it works\n",
        ">> 1. Convert the exponent into binary form\n",
        ">> 2. For the first 1, simplify the number\n",
        ">> 3. For each ensuing 0, do \"*Sequence*\"\" operation\n",
        ">> 4. For each ensuing 1, do ''*Square and Multiply*'' operation\n"
      ]
    },
    {
      "metadata": {
        "id": "r0JqBWfvjv5V",
        "colab_type": "text"
      },
      "cell_type": "markdown",
      "source": [
        "# Convert Numbers Into Binary\n",
        "## Divide the number by two and store the first digit of the remainder as the the digit of a binary sequence\n",
        "\n",
        " $$ 5 = 101 \\text{ (binary)}$$\n",
        "\n",
        "$ 5 \\, \\div \\, 2 = \\text{R}1 $ \\\\\n",
        "$ 2 \\, \\div \\, 2 = \\text{R}0 $ \\\\\n",
        "$ 1 \\, \\div \\, 2 = \\text{R}1 $ \\\\"
      ]
    },
    {
      "metadata": {
        "id": "49IY5DiWlcxe",
        "colab_type": "text"
      },
      "cell_type": "markdown",
      "source": [
        "Example: N$^{37}$ \n",
        "37 = 100101\n",
        "\n",
        "First **One** list the number:  N         \n",
        "\n",
        "Zero calls for Square: N$^{2}$         \n",
        "\n",
        "One calls for  Square & Multiply: \n",
        "\n",
        "Zero calls for Square:               \n",
        "\n",
        "One calls for Square & Multiply:\n",
        "\n",
        "\n",
        "\n",
        "\n",
        "\n",
        "\n"
      ]
    },
    {
      "metadata": {
        "id": "73WzKjLDlcTh",
        "colab_type": "code",
        "colab": {}
      },
      "cell_type": "code",
      "source": [
        "def Square_Multiply(base, exponent):\n",
        "  binaryExponent = []\n",
        "  while exponent != 0:\n",
        "    binaryExponent.append(exponent % 2)     # convert exponent to binary form\n",
        "    exponent = exponent // 2\n",
        "    result = 1                              # initialize the result\n",
        "    binaryExponent.reverse()\n",
        "    \n",
        "    for i in binaryExponent:\n",
        "      if i == 0:                            # if the ith bit is 0\n",
        "        result = result*result              # square\n",
        "      elif i == 1:                          # if the ith bit is 1\n",
        "        result = result*result*base         # square and multiply\n",
        "        \n",
        "      return result\n",
        "\n",
        "def exp_by_squaring(x, n):\n",
        "  \n",
        "  if n < 0:\n",
        "    return exp_by_squaring(1/x, -n)\n",
        "  \n",
        "  if n == 0:\n",
        "    return 1\n",
        "  \n",
        "  if n == 1:\n",
        "    return x\n",
        "  \n",
        "  if n%2 == 0:\n",
        "    return exp_by_squaring(x*x, n/2)\n",
        "  \n",
        "  if n%2 == 1:\n",
        "    return exp_by_squaring(x*x, (n-1)/2) * x\n",
        "\n",
        "\n",
        "def mul_mat(m1, m2):\n",
        "  '''multiplies two matrices represented as list of lists'''\n",
        "  row = len(m1)\n",
        "  col = len(m2[0])\n",
        "  m3 = [col*[0] for i in range(row)]\n",
        "\n",
        "  for i in range(row):\n",
        "    for j in range(col):\n",
        "      for k in range(len(m1[0])):\n",
        "        m3[i][j] = m3[i][j] + (m1[i][k] * m2[k][j])\n",
        "  return m3\n",
        "\n",
        "def mat_exp(m1 , n):\n",
        "  ''' compute m1^n with n being positive integer'''\n",
        "  \n",
        "  if n == 0:                    # if n is 0, return the identity matrix\n",
        "    size = len(m1)\n",
        "    return [ [0]*i + [1] + [0]*(size-i-1) for i in range(size) ]\n",
        "  \n",
        "  if n == 1:\n",
        "    return m1\n",
        "  \n",
        "  if n%2 == 0:\n",
        "    return mat_exp(mul_mat(m1,m1), n/2)\n",
        "  \n",
        "  if n%2 == 1:\n",
        "    return mul_mat(mat_exp(mul_mat(m1,m1), (n-1)/2), m1)  "
      ],
      "execution_count": 0,
      "outputs": []
    }
  ]
}
