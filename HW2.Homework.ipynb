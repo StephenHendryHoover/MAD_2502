{
  "nbformat": 4,
  "nbformat_minor": 0,
  "metadata": {
    "colab": {
      "name": "HW2.ipynb",
      "version": "0.3.2",
      "provenance": [],
      "collapsed_sections": []
    },
    "kernelspec": {
      "name": "python3",
      "display_name": "Python 3"
    },
    "accelerator": "GPU"
  },
  "cells": [
    {
      "metadata": {
        "id": "OV0Klr-Xcn7o",
        "colab_type": "text"
      },
      "cell_type": "markdown",
      "source": [
        "## Problem 1 (4 Points)\n",
        "\n",
        "For any natural number n, define the complex number: $\\omega_n=e^{\\frac{-2\\pi i}{n}}$ . Write a Python function cool_matrix(n), which for any given natural number $n$, returns the $ n\\times n $  matrix $\\left(\\frac{\\omega^{ij}}{\\sqrt{n}}\\right)_{0\\le i,j<n}$ with complex entries. To represent matrices, use the same convention as in class, i.e., a matrix is represented as a list of lists.\n",
        "\n",
        "Hint: The cmath module contains various functions that can handle complex numbers."
      ]
    },
    {
      "metadata": {
        "id": "2DtozjXib7qT",
        "colab_type": "code",
        "colab": {}
      },
      "cell_type": "code",
      "source": [
        "#!/usr/bin/env python3\n",
        "\n",
        "##################################################################################################\n",
        "#                         INTRO TO COMPUTATIONAL MATHEMATICS WITH PYTHON                         #\n",
        "##################################################################################################\n",
        "# Author: Stephen H. Hoover\n",
        "# Assignment: HW2\n",
        "# Problem 1:\n",
        "# Extra Source(s): \n",
        "#      https://stackoverflow.com/questions/6667201/how-to-define-a-two-dimensional-array-in-python\n",
        "##################################################################################################\n",
        "\n",
        "def cool_matrix(n):\n",
        "  e, pi  = 2.718281828459045, 3.141592653589793\n",
        "  omega = e**((-2j * pi)/n)\n",
        "  divn = (n**(1/2))\n",
        "  matrix = [[((omega**(x*y)) / divn) for x in range(n)] for y in range(n)]\n",
        "  print('complex numbers are represented by the character \\\"j\\\" ')\n",
        "  #import numpy as np\n",
        "  #print(np.matrix(matrix))\n",
        "  return matrix\n",
        "  \n",
        "def compose(p1,p2):\n",
        "  pass"
      ],
      "execution_count": 0,
      "outputs": []
    },
    {
      "metadata": {
        "id": "HQkbdSGvglrJ",
        "colab_type": "code",
        "colab": {
          "base_uri": "https://localhost:8080/",
          "height": 51
        },
        "outputId": "5e0707f2-b618-4814-84e8-f53603b07b3d"
      },
      "cell_type": "code",
      "source": [
        "cool_matrix(1)"
      ],
      "execution_count": 2,
      "outputs": [
        {
          "output_type": "stream",
          "text": [
            "complex numbers are represented by the character \"j\" \n"
          ],
          "name": "stdout"
        },
        {
          "output_type": "execute_result",
          "data": {
            "text/plain": [
              "[[(1+0j)]]"
            ]
          },
          "metadata": {
            "tags": []
          },
          "execution_count": 2
        }
      ]
    },
    {
      "metadata": {
        "id": "EvGkVGDXhY5p",
        "colab_type": "code",
        "colab": {
          "base_uri": "https://localhost:8080/",
          "height": 68
        },
        "outputId": "63e21f8f-4890-4798-efcc-58cfaf9ca22d"
      },
      "cell_type": "code",
      "source": [
        "cool_matrix(2)"
      ],
      "execution_count": 3,
      "outputs": [
        {
          "output_type": "stream",
          "text": [
            "complex numbers are represented by the character \"j\" \n"
          ],
          "name": "stdout"
        },
        {
          "output_type": "execute_result",
          "data": {
            "text/plain": [
              "[[(0.7071067811865475+0j), (0.7071067811865475+0j)],\n",
              " [(0.7071067811865475+0j), (-0.7071067811865475-8.659560562354933e-17j)]]"
            ]
          },
          "metadata": {
            "tags": []
          },
          "execution_count": 3
        }
      ]
    },
    {
      "metadata": {
        "id": "DCYIuaDqe9aw",
        "colab_type": "code",
        "colab": {
          "base_uri": "https://localhost:8080/",
          "height": 153
        },
        "outputId": "10cf3268-4e35-43e9-e587-ab8fdfce7b64"
      },
      "cell_type": "code",
      "source": [
        "cool_matrix(3)"
      ],
      "execution_count": 4,
      "outputs": [
        {
          "output_type": "stream",
          "text": [
            "complex numbers are represented by the character \"j\" \n"
          ],
          "name": "stdout"
        },
        {
          "output_type": "execute_result",
          "data": {
            "text/plain": [
              "[[(0.5773502691896258+0j), (0.5773502691896258+0j), (0.5773502691896258+0j)],\n",
              " [(0.5773502691896258+0j),\n",
              "  (-0.28867513459481275-0.5000000000000001j),\n",
              "  (-0.2886751345948131+0.4999999999999999j)],\n",
              " [(0.5773502691896258+0j),\n",
              "  (-0.2886751345948131+0.4999999999999999j),\n",
              "  (-0.2886751345948125-0.5000000000000002j)]]"
            ]
          },
          "metadata": {
            "tags": []
          },
          "execution_count": 4
        }
      ]
    },
    {
      "metadata": {
        "id": "5qkwRcG9eMBS",
        "colab_type": "text"
      },
      "cell_type": "markdown",
      "source": [
        "## Problem 2 (6 Points)\n",
        "\n",
        "A permutation on a set of numbers $(0,...,n-1)$ is a function from $(0,...n-1)$ into itself such that no two numbers are mapped on the same image. For instance, the function $f$ on $(0,1,2)$ defined by $f(0)=1$, $f(1)=0$, and $f(2)=2$ is a permutation. In Python, we can represent a permutation on $(0,..,n-1)$ as a list of length $n$, where the $i^{\\text{th}}$ element of the list contains the image of $i$ under the corresponding permutation. For instance, the above function $f$ would be represented as $[1,0,2]$.\n",
        "\n",
        "Write a Python function compose(p1,p2), which computes the composition of two permutations, i.e., the permutation that first applies (the permutation represented by the list) p2 and then applies (the permutation represented by the list) p1. Your function must check that p1 and p2 represent valid permutations on the same set of numbers.\n",
        "\n",
        "Example: compose([1,0,2], [1,2,0]) must return [0,2,1].\n"
      ]
    },
    {
      "metadata": {
        "id": "plriKyMtzvUf",
        "colab_type": "code",
        "colab": {}
      },
      "cell_type": "code",
      "source": [
        "##################################################################################################\n",
        "# Problem 2:\n",
        "# Extra Source(s): \n",
        "#       http://www.efgh.com/math/algebra/permutations.htm\n",
        "#       https://stackoverflow.com/questions/9623114/check-if-two-unordered-lists-are-equal\n",
        "##################################################################################################\n",
        "def compose(p1,p2):\n",
        "  '''computes the composition of two permutations'''\n",
        "  p1copy = p1[:]    # create a copy of an original list (argument)\n",
        "  p1copy.sort()     # sort list copy in acending order for later\n",
        "  lslen = len(p1)   # find length of lists only once\n",
        "  composition = []  # create empty list to store the composition of two permutations\n",
        "  \n",
        "  if (set(p1) != set(p2)):\n",
        "    return 'invalid permutation'\n",
        "    \n",
        "  for i in range(lslen):\n",
        "    if p1copy[i] != int(i):\n",
        "      return 'invalid permutation'\n",
        "    \n",
        "    for k in range(lslen):             \n",
        "      if p2[i] == p1[k]:\n",
        "        composition.append(k)\n",
        "  global result\n",
        "  result = composition[:]\n",
        "  return composition"
      ],
      "execution_count": 0,
      "outputs": []
    },
    {
      "metadata": {
        "id": "OoB4uOm9gSxC",
        "colab_type": "code",
        "colab": {
          "base_uri": "https://localhost:8080/",
          "height": 34
        },
        "outputId": "0b80c1ea-03f6-4d91-c00c-a37cd4b55baf"
      },
      "cell_type": "code",
      "source": [
        "compose([1,0,2], [1,2,0]) "
      ],
      "execution_count": 6,
      "outputs": [
        {
          "output_type": "execute_result",
          "data": {
            "text/plain": [
              "[0, 2, 1]"
            ]
          },
          "metadata": {
            "tags": []
          },
          "execution_count": 6
        }
      ]
    },
    {
      "metadata": {
        "id": "tRE5pSL3e-ye",
        "colab_type": "text"
      },
      "cell_type": "markdown",
      "source": [
        "## Problem 3 (4 Points)\n",
        "\n",
        "With the same conventions as in Problem 2, write a function is_power(p1,p2), which returns True, if and only if the permutation p2 can be obtained by repeatedly composing the permutation p1 with itself. For instance, is_power([1,2,0],[0,1,2]) must return True, and is_power([0,1,2],[2,1,0]) must return False."
      ]
    },
    {
      "metadata": {
        "id": "yLzuAKAXOyvp",
        "colab_type": "code",
        "colab": {}
      },
      "cell_type": "code",
      "source": [
        "##################################################################################################\n",
        "# Problem 3:\n",
        "##################################################################################################\n",
        "def is_power(p1,p2):\n",
        "  import math\n",
        "  \n",
        "  p1copy = p1[:]                # create a copy of an original list (argument)\n",
        "  p1copy.sort()                 # sort list copy in acending order for later\n",
        "  lslen  = len(p1)              # find length of lists only once\n",
        "  nfac   = math.factorial(lslen)# computes length of list n factorial times\n",
        "  result = p1[:]                # copy elememts of p1 into another list for iterative composition\n",
        "  composition = []              # create empty list to store the composition of two permutations\n",
        "##################################################################################################\n",
        "                                # checks for vaild permutations\n",
        "  if (set(p1) != set(p2)):\n",
        "    return 'invalid permutation'\n",
        "    \n",
        "  for i in range(lslen):\n",
        "    if p1copy[i] != int(i):\n",
        "      return 'invalid permutation'\n",
        "##################################################################################################\n",
        "\n",
        "  for n in range(nfac):         # computes combinations nfact times\n",
        "    for i in range(lslen):      # indexing list\n",
        "      for k in range(lslen):    # indexing another list         \n",
        "        if p1[i] == result[k]:  # check if elements are equal\n",
        "          composition.append(k) # add elements to new list if equal\n",
        "        if composition == p2:   # check if p1's combination = p2\n",
        "          return True           # Return 'True' if any composition of p1 with itself equals p2\n",
        "    result = composition[:]     # copies elements of 'composition' for next loop iteration with p1\n",
        "    composition = []            # resets composition\n",
        "\n",
        "##################################################################################################\n",
        "    return False                # Return 'False' if all composition results are not equal to p2"
      ],
      "execution_count": 0,
      "outputs": []
    },
    {
      "metadata": {
        "id": "ofmE7osbFnz9",
        "colab_type": "code",
        "colab": {
          "base_uri": "https://localhost:8080/",
          "height": 34
        },
        "outputId": "ddb908bb-9345-4b75-f965-9e3a338ea94c"
      },
      "cell_type": "code",
      "source": [
        "is_power([1,2,0],[0,1,2])"
      ],
      "execution_count": 8,
      "outputs": [
        {
          "output_type": "execute_result",
          "data": {
            "text/plain": [
              "True"
            ]
          },
          "metadata": {
            "tags": []
          },
          "execution_count": 8
        }
      ]
    },
    {
      "metadata": {
        "id": "cdl0SapfX5PZ",
        "colab_type": "code",
        "colab": {
          "base_uri": "https://localhost:8080/",
          "height": 34
        },
        "outputId": "afc6ce5c-6739-4939-807d-ba6204dceaed"
      },
      "cell_type": "code",
      "source": [
        "is_power([0,1,2],[2,1,0])"
      ],
      "execution_count": 9,
      "outputs": [
        {
          "output_type": "execute_result",
          "data": {
            "text/plain": [
              "False"
            ]
          },
          "metadata": {
            "tags": []
          },
          "execution_count": 9
        }
      ]
    }
  ]
}