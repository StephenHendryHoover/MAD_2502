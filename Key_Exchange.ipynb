{
  "nbformat": 4,
  "nbformat_minor": 0,
  "metadata": {
    "colab": {
      "name": "Key-Exchange.ipynb",
      "version": "0.3.2",
      "provenance": [],
      "collapsed_sections": []
    },
    "kernelspec": {
      "name": "python3",
      "display_name": "Python 3"
    },
    "accelerator": "GPU"
  },
  "cells": [
    {
      "metadata": {
        "id": "6h4kJqvllcNt",
        "colab_type": "text"
      },
      "cell_type": "markdown",
      "source": [
        "# Diffie Helman Key Exchange\n",
        "## Allows two (or more) parties that have no prior knowledge of each other to establish a shared secret key over an insecure channel. The key can be used to encrypt subsequent communication\n",
        "\n",
        "Adversary\n",
        "\n",
        "Party A (Alice)\n",
        "- Secret Value: a \n",
        "\n",
        "> > Chooses a prime number $p$ and base $g$.\n",
        "> > Compute $g^{a}$ mod $p$ \n",
        "\n",
        "\n",
        "\n",
        "Party B (Bob)\n",
        "- Secret Value: b\n",
        "> >  Compute $(g^{a}$ mod $p)^{b}$ mod $p$    \n",
        "\n"
      ]
    },
    {
      "metadata": {
        "id": "gFABuZ7smIGq",
        "colab_type": "code",
        "colab": {}
      },
      "cell_type": "code",
      "source": [
        "def gcd(a,b):\n",
        "  a,b = max(a,b),min(a,b)\n",
        "  c=1\n",
        "  while c:\n",
        "    c = a%b\n",
        "    a = b\n",
        "    b=c\n",
        "  return a\n",
        "\n",
        "def coprime(p):\n",
        "    '''return the list of numbers that are coprime to p up to p-1'''\n",
        "    phi = []            #create an empty list\n",
        "    x = 1               #initial value\n",
        "    while x < p:        #check for gcd of x and p\n",
        "        if gcd(x,p)==1:\n",
        "            phi.append(x)       # if gcd is indeed 1, add number to list phi\n",
        "        x += 1\n",
        "    return phi"
      ],
      "execution_count": 0,
      "outputs": []
    },
    {
      "metadata": {
        "id": "z29NJBDtofYq",
        "colab_type": "code",
        "outputId": "13b7e925-9a08-44d8-f016-ecccb0be1bf9",
        "colab": {
          "base_uri": "https://localhost:8080/",
          "height": 34
        }
      },
      "cell_type": "code",
      "source": [
        "coprime(6)"
      ],
      "execution_count": 2,
      "outputs": [
        {
          "output_type": "execute_result",
          "data": {
            "text/plain": [
              "[1, 5]"
            ]
          },
          "metadata": {
            "tags": []
          },
          "execution_count": 2
        }
      ]
    },
    {
      "metadata": {
        "id": "y6cwHAA5s7m2",
        "colab_type": "code",
        "colab": {}
      },
      "cell_type": "code",
      "source": [
        "def prime_root(p):\n",
        "  '''return the list of primitive root of p'''\n",
        "  coprime_list = coprime(p)           #obtain the list of coprime of p\n",
        "  roots = []                          # prepare an empty list\n",
        "  for x in coprime_list:\n",
        "    y = 1\n",
        "    while (x**y) % p != 1:          # check the condition\n",
        "      y +=1\n",
        "    if y == len(coprime_list):\n",
        "      roots.append(x)\n",
        "  return roots"
      ],
      "execution_count": 0,
      "outputs": []
    },
    {
      "metadata": {
        "id": "sUEr2YJNwgNH",
        "colab_type": "code",
        "outputId": "cb2a2d22-5cf1-4e76-9f07-72dda1c0d84e",
        "colab": {
          "base_uri": "https://localhost:8080/",
          "height": 34
        }
      },
      "cell_type": "code",
      "source": [
        "prime_root(10)"
      ],
      "execution_count": 4,
      "outputs": [
        {
          "output_type": "execute_result",
          "data": {
            "text/plain": [
              "[3, 7]"
            ]
          },
          "metadata": {
            "tags": []
          },
          "execution_count": 4
        }
      ]
    },
    {
      "metadata": {
        "id": "yJ52BwX7o0N7",
        "colab_type": "text"
      },
      "cell_type": "markdown",
      "source": [
        "# ELGamal encryption (asymmetric)\n",
        "\n",
        "\n",
        "---\n",
        "\n",
        "## Idea: Alice publishes a public key which is accessible to everyone and can be used to encrypt messages.\n",
        "\n",
        "## To decrypt, Alice has a secret key. We face here a so-called public-key encryption scheme\n",
        "\n",
        "\n",
        "---\n",
        "\n",
        "\n",
        "There are several algorithms:\n",
        "\n",
        "1.   Key Generation: Alice picks a 'large' prime number $p$ and generator $ g \\in \\{2, \\ldots, p-1\\}$ of 'large' order. Let this order be $g$.\n",
        "\n",
        "2.   Next, Aice picks a random number $a \\in \\{1, \\ldots, q\\}$ which is her secret key and publishes $(\\, g^{\\,a} \\, \\text{mod} \\,\\,p \\,)$ which is her public key along with ($\\,p$ and $g\\,$)\n",
        "\n",
        "3. Encryption: suppose Bob wants to send a message $m$ to Alice. Let's assume $m$ is a number mod $p$. He picks a random $k \\in \\{2, \\ldots, g\\}$ and sends $g^{\\,k} \\text{ mod } p, (g^{\\,a})^{k} \\times m \\text{ mod } p$ to Alice\n",
        "\n",
        "4. Decryption: Alice computes $(g^{\\,k})^{a}$ mod $p$ and recovers m = $(g^{\\,ak})^{-1} \\cdot (g^{\\,ak} \\cdot m) $ mod $p$\n",
        "\n",
        "\n",
        "\n",
        "---\n",
        "\n",
        "How can Alice compute an inverse $\\text{ mod }p$? \n",
        "\n",
        "\n",
        "\n",
        "> Fermat's Little theorem ensures the following: \n",
        "\n",
        "> $x^{\\, p-1} =1 \\text{ mod } p \\,\\, \\forall \\, x \\in \\{1, \\ldots, p-1\\}$. Hence $(x \\cdot x^{\\, p-2})= (x \\cdot x^{\\, -1}) =( 1 \\text{ mod } p)$\n",
        "\n",
        "\n"
      ]
    },
    {
      "metadata": {
        "id": "JeAMq-Z6pJ6C",
        "colab_type": "code",
        "outputId": "fad0c75c-5aff-49c9-9a51-a5ba434ea452",
        "colab": {
          "base_uri": "https://localhost:8080/",
          "height": 34
        }
      },
      "cell_type": "code",
      "source": [
        "# ELGamal encrryption with p = 23 and g = 5\n",
        "\n",
        "def key_gen(p = 23, g = 5):\n",
        "  \n",
        "  '''produce public key and secret key for ELGamal'''\n",
        "  \n",
        "  import random \n",
        "  \n",
        "  secret = random.randint(1, p-1)\n",
        "  \n",
        "  # public = (g ** (secret) % p) instead of writing this, use the power function\n",
        "  \n",
        "  public = pow(g, secret, p) # https://docs.python.org/3/library/functions.html, used for exponentation with powers\n",
        "  \n",
        "  return (public, secret)\n",
        "\n",
        "key_gen()"
      ],
      "execution_count": 5,
      "outputs": [
        {
          "output_type": "execute_result",
          "data": {
            "text/plain": [
              "(7, 19)"
            ]
          },
          "metadata": {
            "tags": []
          },
          "execution_count": 5
        }
      ]
    },
    {
      "metadata": {
        "id": "sjdnRTJ2xdMD",
        "colab_type": "code",
        "colab": {}
      },
      "cell_type": "code",
      "source": [
        "def encrypt(pk,m,p=23,g=5):\n",
        "  '''encrypt message m with public key pk'''\n",
        "  import random\n",
        "  \n",
        "  secret=random.randint(1,p-1)\n",
        "  gk=pow(g,secret,p)\n",
        "  gak=pow(pk,secret,p)\n",
        "  return (gk, (gak*m)%p)\n",
        "\n",
        "def decrypt(sk,c,p=23,g=5):\n",
        "  '''decrypt ElGamal ciphertext c'''\n",
        "  \n",
        "  gak=pow(c[0],sk,p)\n",
        "  gak_inv=pow(gak, p-2, p)\n",
        "  \n",
        "  return (gak_inv*c[1])%p"
      ],
      "execution_count": 0,
      "outputs": []
    }
  ]
}