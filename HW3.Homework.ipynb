{
  "nbformat": 4,
  "nbformat_minor": 0,
  "metadata": {
    "colab": {
      "name": "Homework_H3.ipynb",
      "version": "0.3.2",
      "provenance": [],
      "collapsed_sections": []
    },
    "kernelspec": {
      "name": "python3",
      "display_name": "Python 3"
    },
    "accelerator": "GPU"
  },
  "cells": [
    {
      "metadata": {
        "id": "HjQBSS2PMneO",
        "colab_type": "text"
      },
      "cell_type": "markdown",
      "source": [
        "Problem 1 (4 Points)\n",
        "\n",
        "Write a function countdown(n), which in 1-second intervals outputs n messages of the form \"n seconds to go\", \"n-1 seconds to go\", ..., \"2 seconds to go\", \"1 second to go\", and then returns the string \"Countdown finished.\" Your program must ensure that the countdown cannot be interrupted by pressing Ctrl-C.\n",
        "\n",
        "Hint: The time module and the continue command could be useful."
      ]
    },
    {
      "metadata": {
        "id": "ADWQyxLpMWHn",
        "colab_type": "code",
        "colab": {}
      },
      "cell_type": "code",
      "source": [
        "#!/usr/bin/env python3\n",
        "\n",
        "##################################################################################################\n",
        "#                         INTRO TO COMPUTATIONAL MATHEMATICS WITH PYTHON                         #\n",
        "##################################################################################################\n",
        "# Author: Stephen H. Hoover\n",
        "# Assignment: Homework 3\n",
        "# Extra Source(s):\n",
        "# https://docs.python.org/3/library/time.html                            # for time.sleep(1)\n",
        "# https://docs.python.org/3/tutorial/datastructures.html                 # for list comprehension\n",
        "# https://stackoverflow.com/questions/31983497/python-script-avoid-quitting-when-ctrl-c-is-pressed\n",
        "##################################################################################################\n",
        "\n",
        "def countdown(n):\n",
        "  import time\n",
        "  \n",
        "  for i in range(n):\n",
        "    try:\n",
        "      print(n-i,"second"+("s" if i!=n-1 else "")+" to go"), time.sleep(1)\n",
        "    except KeyboardInterrupt:\n",
        "      pass\n",
        "     \n",
        "  return 'Countdown finished'"
      ],
      "execution_count": 0,
      "outputs": []
    },
    {
      "metadata": {
        "id": "opVyidfFMr64",
        "colab_type": "code",
        "colab": {
          "base_uri": "https://localhost:8080/",
          "height": 204
        },
        "outputId": "c9cb05df-36f2-43b4-93d3-acc4c6b4e2ea"
      },
      "cell_type": "code",
      "source": [
        "countdown(10)"
      ],
      "execution_count": 2,
      "outputs": [
        {
          "output_type": "stream",
          "text": [
            "10 seconds to go\n",
            "9 seconds to go\n",
            "8 seconds to go\n",
            "7 seconds to go\n",
            "6 seconds to go\n",
            "5 seconds to go\n",
            "4 seconds to go\n",
            "3 seconds to go\n",
            "2 seconds to go\n",
            "1 seconds to go\n"
          ],
          "name": "stdout"
        },
        {
          "output_type": "execute_result",
          "data": {
            "text/plain": [
              "'Countdown finished'"
            ]
          },
          "metadata": {
            "tags": []
          },
          "execution_count": 2
        }
      ]
    },
    {
      "metadata": {
        "id": "6mwUvKO-MwOj",
        "colab_type": "text"
      },
      "cell_type": "markdown",
      "source": [
        "Problem 2 (4 Points)\n",
        "\n",
        "Write four functions to compute the factorial n! of a non-negative integer n:\n",
        "\n",
        "func1(n) must use a for-loop, no while-loop, and no recursion.\n",
        "func2(n) must use no for-loop, a while-loop, and no recursion.\n",
        "func3(n) must use no for-loop, no while-loop, but recursion.\n",
        "func4(n) builds a list [1...n] and applies the reduce command from the functools module to this list to find n!."
      ]
    },
    {
      "metadata": {
        "id": "2pQz9dlvMyAZ",
        "colab_type": "code",
        "colab": {}
      },
      "cell_type": "code",
      "source": [
        "##################################################################################################\n",
        "# Extra Source(s):\n",
        "# 2 https://stackoverflow.com/questions/35467303/write-factorial-with-while-loop-python\n",
        "# 3 https://www.programiz.com/python-programming/examples/factorial-recursion\n",
        "# 4 https://stackoverflow.com/questions/26152469/using-reduce-function-in-python-to-find-factorial\n",
        "##################################################################################################\n",
        "\n",
        "def func1(n):\n",
        "  '''compute n factorial, \"n!\", assuming 'n' is a non-negative integer\n",
        "  using a for-loop, no while-loop, and no recursion'''\n",
        "  n = abs(int(n))\n",
        "  nfac = 1\n",
        "  for k in range(2, n + 1):\n",
        "    nfac *= k\n",
        "  return nfac\n",
        "\n",
        "def func2(n):\n",
        "  '''compute the n factorial, \"n!\", assuming 'n' is a non-negative integer\n",
        "  using no for-loop, a while-loop, and no recursion'''\n",
        "  n = abs(int(n))\n",
        "  nfac = 1\n",
        "  while n >= 1:\n",
        "    nfac *= n\n",
        "    n -= 1\n",
        "  return nfac\n",
        "\n",
        "def func3(n):\n",
        "  '''compute the n factorial, \"n!\", assuming 'n' is a non-negative integer\n",
        "  using no for-loop, no while-loop, but recursion'''\n",
        "  n = abs(int(n))\n",
        "  if n == 1:\n",
        "    return n\n",
        "  else:\n",
        "    return n*func3(n-1)\n",
        "\n",
        "\n",
        "def func4(n):\n",
        "  '''compute the n factorial, \"n!\", assuming 'n' is a non-negative integer\n",
        "  using the functools module to build a list [1...n] and applies the reduce \n",
        "  command to find \"n!\" '''\n",
        "  \n",
        "  try:\n",
        "    import functools\n",
        "  except ModuleNotFoundError:\n",
        "    return('''The module \"functools\" needs to be installed to run this program.''')\n",
        "  \n",
        "  n = abs(int(n))\n",
        "  if n == 0:\n",
        "    return 1\n",
        "  else:\n",
        "    return functools.reduce(lambda x,y: x*y, range(1,n+1))"
      ],
      "execution_count": 0,
      "outputs": []
    },
    {
      "metadata": {
        "id": "A22WwaQjfcoL",
        "colab_type": "code",
        "colab": {
          "base_uri": "https://localhost:8080/",
          "height": 51
        },
        "outputId": "be1e5f9f-bdfe-439b-f664-b921af9e3d1b"
      },
      "cell_type": "code",
      "source": [
        "x, y = 4, 7\n",
        "\n",
        "print(func1(x), func2(x), func3(x), func4(x))\n",
        "print(func1(y), func2(y), func3(y), func4(y))"
      ],
      "execution_count": 4,
      "outputs": [
        {
          "output_type": "stream",
          "text": [
            "24 24 24 24\n",
            "5040 5040 5040 5040\n"
          ],
          "name": "stdout"
        }
      ]
    },
    {
      "metadata": {
        "id": "F5hNZDLEMzET",
        "colab_type": "text"
      },
      "cell_type": "markdown",
      "source": [
        "Problem 3 (6 Points)\n",
        "\n",
        "Write a Python class TinyNumber as follows:\n",
        "\n",
        "Instances of this class are generated by providing an integer x such that $0 \\leq x \\leq 999 $, e.g., we can write $a=$ TinyNumber(42).\n",
        "Provide an implementation of \\__str__ , returning a representation of the number as English text. E.g., print(TinyNumber(12)) should return the string \"twelve\".\n",
        "Provide an implementation of +, adding two TinyNumbers modulo 1000.\n",
        "Provide an implementation of == to check if two TinyNumbers are equal."
      ]
    },
    {
      "metadata": {
        "id": "n08o09-RfexK",
        "colab_type": "code",
        "colab": {
          "base_uri": "https://localhost:8080/",
          "height": 34
        },
        "outputId": "84c2d57d-4341-4a9f-b844-641611691fa7"
      },
      "cell_type": "code",
      "source": [
        "!pip3 install num2words"
      ],
      "execution_count": 5,
      "outputs": [
        {
          "output_type": "stream",
          "text": [
            "Requirement already satisfied: num2words in /usr/local/lib/python3.6/dist-packages (0.5.7)\n"
          ],
          "name": "stdout"
        }
      ]
    },
    {
      "metadata": {
        "id": "ebXheRL3BoVv",
        "colab_type": "code",
        "colab": {}
      },
      "cell_type": "code",
      "source": [
        "##################################################################################################\n",
        "# Extra Source(s):\n",
        "# https://pypi.org/project/num2words/\n",
        "##################################################################################################\n",
        "class TinyNumber:\n",
        "    \n",
        "  def __init__(self, x):\n",
        "      self.x = x  \n",
        "  \n",
        "  def __str__(self):\n",
        "    ''' return a representation of a number as English text. E.g., print(TinyNumber(12)) should return the string \"twelve\".\n",
        "    or phrased differently convert an arabic numeral representation of the a number into its english word'''\n",
        "    \n",
        "    try:\n",
        "      from num2words import num2words\n",
        "      return num2words(int(self.x))\n",
        "\n",
        "    except ModuleNotFoundError:\n",
        "      raise ModuleNotFoundError('The module \"num2words\" needs to be installed to run this program')\n",
        "    \n",
        "  def __add__(self, other):\n",
        "    '''Provide an implementation of +, adding two TinyNumbers modulo 1000.'''\n",
        "    return ( (self.x + other.x) % 1000 )\n",
        "\n",
        "  def __eq__(self, other):\n",
        "    '''Provide an implementation of == to check if two TinyNumbers are equal'''\n",
        "    if (self.x  == other.x):\n",
        "      return True\n",
        "    else:\n",
        "      return False\n",
        "    "
      ],
      "execution_count": 0,
      "outputs": []
    },
    {
      "metadata": {
        "id": "Jj4lHme858Jx",
        "colab_type": "code",
        "colab": {
          "base_uri": "https://localhost:8080/",
          "height": 34
        },
        "outputId": "4ec0750a-7182-48cf-9b56-f103e0a0021e"
      },
      "cell_type": "code",
      "source": [
        "print(TinyNumber(12))"
      ],
      "execution_count": 7,
      "outputs": [
        {
          "output_type": "stream",
          "text": [
            "twelve\n"
          ],
          "name": "stdout"
        }
      ]
    },
    {
      "metadata": {
        "id": "fx4l2HdBjBgm",
        "colab_type": "code",
        "colab": {
          "base_uri": "https://localhost:8080/",
          "height": 34
        },
        "outputId": "6d257f88-9cba-420c-bd92-48a4e6823f20"
      },
      "cell_type": "code",
      "source": [
        "a = TinyNumber(42)\n",
        "b = TinyNumber(42)\n",
        "\n",
        "a == b"
      ],
      "execution_count": 8,
      "outputs": [
        {
          "output_type": "execute_result",
          "data": {
            "text/plain": [
              "True"
            ]
          },
          "metadata": {
            "tags": []
          },
          "execution_count": 8
        }
      ]
    },
    {
      "metadata": {
        "id": "hXwhgfeI59dB",
        "colab_type": "code",
        "colab": {
          "base_uri": "https://localhost:8080/",
          "height": 34
        },
        "outputId": "978fd1d3-1d68-4926-a044-257b02eaf44c"
      },
      "cell_type": "code",
      "source": [
        "a = TinyNumber(42)\n",
        "b = TinyNumber(99)\n",
        "\n",
        "a == b"
      ],
      "execution_count": 9,
      "outputs": [
        {
          "output_type": "execute_result",
          "data": {
            "text/plain": [
              "False"
            ]
          },
          "metadata": {
            "tags": []
          },
          "execution_count": 9
        }
      ]
    },
    {
      "metadata": {
        "id": "ldI_uVgw6IAt",
        "colab_type": "code",
        "colab": {
          "base_uri": "https://localhost:8080/",
          "height": 68
        },
        "outputId": "c58948cf-2f78-4a96-9d28-6d71b17bf974"
      },
      "cell_type": "code",
      "source": [
        "a = TinyNumber(42)\n",
        "b = TinyNumber(99)\n",
        "\n",
        "print((42 + 99)% 1000)\n",
        "print(a + b)\n",
        "print( TinyNumber(a+ b) )"
      ],
      "execution_count": 10,
      "outputs": [
        {
          "output_type": "stream",
          "text": [
            "141\n",
            "141\n",
            "one hundred and forty-one\n"
          ],
          "name": "stdout"
        }
      ]
    }
  ]
}
