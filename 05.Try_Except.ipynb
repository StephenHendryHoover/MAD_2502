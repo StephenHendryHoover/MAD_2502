{
  "nbformat": 4,
  "nbformat_minor": 0,
  "metadata": {
    "colab": {
      "name": "Try/Except.ipynb",
      "version": "0.3.2",
      "provenance": []
    },
    "kernelspec": {
      "name": "python3",
      "display_name": "Python 3"
    },
    "accelerator": "GPU"
  },
  "cells": [
    {
      "metadata": {
        "id": "1qYMdkH1c4hm",
        "colab_type": "code",
        "colab": {}
      },
      "cell_type": "code",
      "source": [
        "#!/usr/bin/env python3\n",
        "\n",
        "##################################################################################################\n",
        "#                         INTRO TO COMPUTATIONAL MATHEMATICS WITH PYTHON                         #\n",
        "##################################################################################################\n",
        "\n",
        "def simple_divide():\n",
        "  '''ask a user for two numbers, output their quotient'''\n",
        "  while True:\n",
        "    try:\n",
        "      x = int(input('Enter a numerator: '))\n",
        "      y = int(input('Enter a denomator: '))\n",
        "      return (x/y)\n",
        "      break\n",
        "      \n",
        "    except:\n",
        "      print('There was an error. Check to verify that the denomator is was not zero')"
      ],
      "execution_count": 0,
      "outputs": []
    },
    {
      "metadata": {
        "id": "0fQq7sOtyc7V",
        "colab_type": "code",
        "colab": {
          "base_uri": "https://localhost:8080/",
          "height": 68
        },
        "outputId": "3b419fb6-e851-4a4f-b514-d6f223c7615b"
      },
      "cell_type": "code",
      "source": [
        "simple_divide()"
      ],
      "execution_count": 2,
      "outputs": [
        {
          "output_type": "stream",
          "text": [
            "Enter a numerator: 4\n",
            "Enter a denomator: 6\n"
          ],
          "name": "stdout"
        },
        {
          "output_type": "execute_result",
          "data": {
            "text/plain": [
              "0.6666666666666666"
            ]
          },
          "metadata": {
            "tags": []
          },
          "execution_count": 2
        }
      ]
    },
    {
      "metadata": {
        "id": "3jFODDfRyiMV",
        "colab_type": "code",
        "colab": {
          "base_uri": "https://localhost:8080/",
          "height": 119
        },
        "outputId": "745f8969-9828-4411-d093-486da8557349"
      },
      "cell_type": "code",
      "source": [
        "simple_divide()"
      ],
      "execution_count": 3,
      "outputs": [
        {
          "output_type": "stream",
          "text": [
            "Enter a numerator: 8\n",
            "Enter a denomator: 0\n",
            "There was an error. Check to verify that the denomator is was not zero\n",
            "Enter a numerator: 3\n",
            "Enter a denomator: 2\n"
          ],
          "name": "stdout"
        },
        {
          "output_type": "execute_result",
          "data": {
            "text/plain": [
              "1.5"
            ]
          },
          "metadata": {
            "tags": []
          },
          "execution_count": 3
        }
      ]
    }
  ]
}
