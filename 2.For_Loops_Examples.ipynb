{
 "cells": [
  {
   "cell_type": "markdown",
   "metadata": {},
   "source": [
    "## For Loops\n",
    "\n",
    "In python for loops do a sequence of steps a pre-defined number of times\n",
    "Python uses indentiation to decide what block of code will run under another block of code"
   ]
  },
  {
   "cell_type": "code",
   "execution_count": 2,
   "metadata": {},
   "outputs": [
    {
     "name": "stdout",
     "output_type": "stream",
     "text": [
      "Enter a number: 13\n",
      "Sum of all the digits of 4\n"
     ]
    }
   ],
   "source": [
    "#!/usr/bin/env python3\n",
    "##################################################################################################\n",
    "#                         INTRO TO COMPUTATIONAL MATHEMATICS WITH PYTHON                         #\n",
    "##################################################################################################\n",
    "# For Loops\n",
    "# User enters a number\n",
    "# converts number to an integer\n",
    "# The program returns the each digit in from a number\n",
    "\n",
    "number=input('Enter a number: ')\n",
    "total=0\n",
    "for position in range(len(number)):\n",
    "    total=total+int(number[position])\n",
    "print('Sum of all the digits of',total)\n",
    "    "
   ]
  },
  {
   "cell_type": "code",
   "execution_count": 3,
   "metadata": {},
   "outputs": [
    {
     "name": "stdout",
     "output_type": "stream",
     "text": [
      "Enter a number: 5\n",
      "Sum from 1 to 5: 15\n"
     ]
    }
   ],
   "source": [
    "#!/usr/bin/env python3\n",
    "##################################################################################################\n",
    "#                         INTRO TO COMPUTATIONAL MATHEMATICS WITH PYTHON                         #\n",
    "##################################################################################################\n",
    "# For Loops\n",
    "# User Enters a Number\n",
    "# The program returns the sum of the integers starting at 1 until the input. i.e., 1+2+...+n = Sum Xn\n",
    "\n",
    "number=int(input('Enter a number: '))\n",
    "start=0\n",
    "for n in range(number+1):\n",
    "    start=start+n\n",
    "\n",
    "print ('Sum from 1 to '+ str(number)+': '+ str(start))"
   ]
  },
  {
   "cell_type": "code",
   "execution_count": 4,
   "metadata": {},
   "outputs": [
    {
     "name": "stdout",
     "output_type": "stream",
     "text": [
      "2500\n"
     ]
    }
   ],
   "source": [
    "#!/usr/bin/env python3\n",
    "##################################################################################################\n",
    "#                         INTRO TO COMPUTATIONAL MATHEMATICS WITH PYTHON                         #\n",
    "##################################################################################################\n",
    "# Find the Sum of All Odd Numbers from 1 to 100 \n",
    "# The program returns the sum of the digits\n",
    "\n",
    "total = 0\n",
    "for k in range (1, 100,2): \n",
    "    total = total + k\n",
    "    \n",
    "print(total)"
   ]
  },
  {
   "cell_type": "code",
   "execution_count": 5,
   "metadata": {},
   "outputs": [
    {
     "name": "stdout",
     "output_type": "stream",
     "text": [
      "0\n",
      "1\n",
      "2\n",
      "3\n",
      "4\n",
      "5\n",
      "6\n",
      "7\n",
      "8\n",
      "9\n",
      "10\n",
      "11\n",
      "12\n",
      "13\n",
      "14\n",
      "15\n",
      "16\n",
      "17\n",
      "18\n",
      "19\n",
      "20\n",
      "21\n",
      "22\n",
      "23\n",
      "24\n",
      "25\n",
      "26\n",
      "27\n",
      "28\n",
      "29\n",
      "30\n",
      "31\n",
      "32\n",
      "33\n",
      "34\n",
      "35\n",
      "36\n",
      "37\n",
      "38\n",
      "39\n",
      "40\n",
      "41\n",
      "42\n",
      "43\n",
      "44\n",
      "45\n",
      "46\n",
      "47\n",
      "48\n",
      "49\n",
      "50\n",
      "51\n",
      "52\n",
      "53\n",
      "54\n",
      "55\n",
      "56\n",
      "57\n",
      "58\n",
      "59\n",
      "60\n",
      "61\n",
      "62\n",
      "63\n",
      "64\n",
      "65\n",
      "66\n",
      "67\n",
      "68\n",
      "69\n",
      "70\n",
      "71\n",
      "72\n",
      "73\n",
      "74\n",
      "75\n",
      "76\n",
      "77\n",
      "78\n",
      "79\n",
      "80\n",
      "81\n",
      "82\n",
      "83\n",
      "84\n",
      "85\n",
      "86\n",
      "87\n",
      "88\n",
      "89\n",
      "90\n",
      "91\n",
      "92\n",
      "93\n",
      "94\n",
      "95\n",
      "96\n",
      "97\n",
      "98\n",
      "99\n"
     ]
    }
   ],
   "source": [
    "#!/usr/bin/env python3\n",
    "\n",
    "##################################################################################################\n",
    "#                         INTRO TO COMPUTATIONAL MATHEMATICS WITH PYTHON                         #\n",
    "##################################################################################################\n",
    "\n",
    "# For Loops\n",
    "# Output all of the numbers from 0 to 99\n",
    "\n",
    "for i in range(100):\n",
    "    print(i)"
   ]
  }
 ],
 "metadata": {
  "kernelspec": {
   "display_name": "Python 3",
   "language": "python",
   "name": "python3"
  },
  "language_info": {
   "codemirror_mode": {
    "name": "ipython",
    "version": 3
   },
   "file_extension": ".py",
   "mimetype": "text/x-python",
   "name": "python",
   "nbconvert_exporter": "python",
   "pygments_lexer": "ipython3",
   "version": "3.6.5"
  }
 },
 "nbformat": 4,
 "nbformat_minor": 2
}
