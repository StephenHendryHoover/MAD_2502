{
  "nbformat": 4,
  "nbformat_minor": 0,
  "metadata": {
    "colab": {
      "name": "X1.Exam.ipynb",
      "version": "0.3.2",
      "provenance": [],
      "collapsed_sections": []
    },
    "kernelspec": {
      "name": "python3",
      "display_name": "Python 3"
    },
    "accelerator": "GPU"
  },
  "cells": [
    {
      "metadata": {
        "id": "ixr9XptuYOiE",
        "colab_type": "text"
      },
      "cell_type": "markdown",
      "source": [
        "Problem 1 (4 Points)\n",
        "Write a Python function sumOfsquares(n) which has an integer n as input and returns False, if and only if $n$ cannot be written in the form $n=a^{2}+b^{2}$ with integers $a,b$. If such integers $a, b$ exist, the function returns one such pair. For instance, sumOfSquares(25) could return the pair $(3,4)$, whereas sumofSquares(6) must return False.\n"
      ]
    },
    {
      "metadata": {
        "id": "QnzqbIGSYkMe",
        "colab_type": "code",
        "colab": {}
      },
      "cell_type": "code",
      "source": [
        "#!/usr/bin/env python3\n",
        "\n",
        "##################################################################################################\n",
        "#                         INTRO TO COMPUTATIONAL MATHEMATICS WITH PYTHON                         #\n",
        "##################################################################################################\n",
        "# Author: Stephen H. Hoover\n",
        "# Assignment: Exam X1\n",
        "# Extra Source(s):\n",
        "#     https://en.wikipedia.org/wiki/Sum_of_two_squares_theorem\n",
        "#     https://math.stackexchange.com/questions/657226/2017-as-the-sum-of-two-squares\n",
        "#     https://www.math.utah.edu/~carlson/hsp2004/PythonShortCourse.pdf (3.3 Brtue Force)\n",
        "##################################################################################################\n",
        "# Sub-Functions Using Number Theory -- Problem 1\n",
        "##################################################################################################\n",
        "\n",
        "def primality_test(n):\n",
        "  '''return a list of a prime factors for a natural number'''\n",
        "  ls = []           # create an empty list\n",
        "  f = 2             # first factor to divide \"n\"\n",
        "  while n > 1:      # check if the remainder of n divided by \n",
        "    if n % f == 0:\n",
        "      ls.append(f)\n",
        "      n /= f\n",
        "    else:\n",
        "      f = f+1\n",
        "  return ls\n",
        "\n",
        "def congruency_test(ls):\n",
        "  '''3.3 Brute-force search'''\n",
        "  for x in ls:\n",
        "    for k in range(4):\n",
        "      if x % 4 == 3:\n",
        "        return x\n",
        "\n",
        "def isqrt(n):\n",
        "  '''Newtons Method'''\n",
        "  x = n\n",
        "  y = (x + 1) // 2\n",
        "  while y < x:\n",
        "    x = y\n",
        "    y = (x + n // x) // 2\n",
        "  return x\n",
        "\n",
        "##################################################################################################\n",
        "# Problem 1 - Sum Of Squares\n",
        "##################################################################################################\n",
        "def sumOfsquares(n):\n",
        "  '''returns False, if and only if n cannot be written in the form n = a^2 + b^2 with integers (a,b)\n",
        "  If such integers (a,b) exist, the function returns one such pair. Zero is considered an integer'''\n",
        "  \n",
        "  ls = primality_test(n)  # Find the prime factors of the argument, then store them in a list\n",
        "  c = congruency_test(ls) # test each element in the list(ls) for congruency\n",
        "  if (ls.count(c)) % 2 != 0 or n==1 or n==0: # if the congruent element(s) (c) is/are raised to an even power, there can not be a sum or squares\n",
        "    return False\n",
        "  \n",
        "  # \"Possible last digits of any square number [0,1,4,5,6,9] \n",
        "  for i in range(n): # \"Find the numbers whose squares are end with the one of the numbers above, less than n\"\n",
        "    if i**2 <= n:\n",
        "      i_squared = i**2 # calculate i^2 only once\n",
        "      a = n - i_squared\n",
        "      if a >= 1 and (a % 10 == 0) or (a % 10 == 1) or (a % 10 == 4) or (a % 10 == 5) or (a % 10 == 6) or (a % 10 == 9): # checks if the 'a' has a last digit of a perfect square\n",
        "        square = isqrt(a) # isqrt(a) will always return an integer. It will not always equal the square root of the argument\n",
        "        if square**2 + i_squared == n:\n",
        "          return(square,i)\n",
        "##################################################################################################"
      ],
      "execution_count": 0,
      "outputs": []
    },
    {
      "metadata": {
        "id": "mqP05yWgAdcJ",
        "colab_type": "code",
        "colab": {
          "base_uri": "https://localhost:8080/",
          "height": 68
        },
        "outputId": "38c48193-b64b-4470-de62-f0e9f3c888bc"
      },
      "cell_type": "code",
      "source": [
        "print( sumOfsquares(2017) )\n",
        "print( sumOfsquares(5)    )\n",
        "print( sumOfsquares(11)   )\n"
      ],
      "execution_count": 2,
      "outputs": [
        {
          "output_type": "stream",
          "text": [
            "(44, 9)\n",
            "(2, 1)\n",
            "False\n"
          ],
          "name": "stdout"
        }
      ]
    },
    {
      "metadata": {
        "id": "RFagL8fdYR1y",
        "colab_type": "text"
      },
      "cell_type": "markdown",
      "source": [
        "Problem 2 (5 Points) Write a Python function cycle2table(cs), which has a list of lists of non-negative integers cs as input. The input represents a permutation in cycle notation, as discussed in class. Your function has to verify that the cycles in cs contain all integers in the range from 0 to n for some n, but it is not required that the cycles are disjoint. E.g., [[0,2],[1,4,2],[3]] is a valid input, whereas [[1,2,3],[0,5]] is not. We use the convention that cycles are applied from right to left. For instance, the permutation represented by [[0,1],[0,1,2]] maps 0 to 0, 1 to 2, and 2 to 1. The return value of cycle2table(cs) is a list of integers images, such that the i-th entry of images is the image of i under the permutation represented by cs."
      ]
    },
    {
      "metadata": {
        "id": "tUU_vGvzYm4V",
        "colab_type": "code",
        "colab": {}
      },
      "cell_type": "code",
      "source": [
        "##################################################################################################\n",
        "# Author: Stephen H. Hoover\n",
        "# Problem 2:\n",
        "# Extra Source(s):\n",
        "#     https://docs.sympy.org/latest/modules/combinatorics/permutations.html\n",
        "#     https://docs.sympy.org/latest/_modules/sympy/combinatorics/permutations.html ~~ source\n",
        "##################################################################################################\n",
        "# Sub-Functions -- Problem 2\n",
        "##################################################################################################\n",
        "def create_list(cs):\n",
        "  '''Create a sorted list (L) with all values in a list of lists. \n",
        "  Values may not repeat'''\n",
        "  L = []\n",
        "  for k in cs:\n",
        "    for j in k:\n",
        "      if j not in L:\n",
        "        L.append(j)\n",
        "  L.sort()\n",
        "  return L\n",
        "\n",
        "def cycle_validation(L):\n",
        "  '''Take in a sorted list, and check if it contains all values from zero\n",
        "  to the length of the list'''\n",
        "  LA = []\n",
        "  for i in range(len(L)):\n",
        "    if L[i] != i:\n",
        "      return(False)\n",
        "    LA.append('n')\n",
        "  return LA\n",
        "\n",
        "def reverse_list(cs):\n",
        "  '''take a list of lists (cs) and reverse the order of all elements \n",
        "  Ex. [ [0,1,2], [3], [456] ] goes to [ [456], [3] ,[0,1,2] ]'''\n",
        "  cs_sorted = cs[:]\n",
        "  cs_sorted.reverse() \n",
        "  return cs_sorted\n",
        "\n",
        "##################################################################################################\n",
        "def helper_function(new_cs, LA):\n",
        "  \n",
        "  for x in new_cs:          # for each list (x) in the list of lists\n",
        "    \n",
        "    for p in range(len(x)): # for i in the range(0, x]. Each element of x = x[i] \n",
        "\n",
        "      if (p+1) < len(x):\n",
        "\n",
        "        if x[p+1] not in LA:\n",
        "          print('a', 'LA = ', LA, 'x[p]=', x[p], 'x[p+1]=', x[p+1])\n",
        "          LA[x[p]] = x[p+1]\n",
        "   \n",
        "        elif x[p] not in LA:\n",
        "          print('b','LA = ', LA, 'x[p]=', x[p], 'x[0]=', x[0])\n",
        "          LA[x[p]] = x[p]\n",
        "        \n",
        "        elif x[p+1] in LA:\n",
        "          pass\n",
        "          for y in range(len(LA)):\n",
        "            if LA[y] == x[p]:\n",
        "              print('elif', 'LA = ', LA, 'LA[y]=', LA[y], 'x[p+1]=', x[p+1])\n",
        "              LA[y] = x[p+1]\n",
        "              \n",
        "\n",
        "##################################################################################################\n",
        "\n",
        "      elif (p+1) >= len(x):\n",
        "\n",
        "        if x[0] not in LA:\n",
        "          print('b','LA = ', LA, 'x[p]=', x[p], 'x[0]=', x[0])\n",
        "          LA[x[p]] = x[0]\n",
        "          \n",
        "        elif x[0] in LA:\n",
        "          pass\n",
        "          for y in range(len(LA)):\n",
        "            pass\n",
        "          #  if LA[y] == x[0]:\n",
        "          #   print('elif', 'LA = ', LA, 'LA[y]=', LA[y], 'x[0]=', x[0])\n",
        "          #    LA[y] = x[p]\n",
        "          \n",
        "##################################################################################################\n",
        "# \n",
        "##################################################################################################\n",
        "\n",
        "def cycle2table(cs):\n",
        "  ''' The input represents a permutation in cycle notation. The functions verifies that the cycles in the argument (cs)\n",
        "  contain all integers in the range from 0 to n for some n, but it is not required that the cycles are disjoint. \n",
        "  E.g., [[0,2],[1,4,2],[3]] is a valid input, whereas [[1,2,3],[0,5]] is not. \n",
        "  Cycles are applied from right to left. For instance, the permutation represented by [[0,1],[0,1,2]] \n",
        "  maps (0 to 1 to 0) , (1 to 2 to 2), and (2 to 1 to 1) returning (0,2,1) as an output. The return value of cycle2table(cs) \n",
        "  is a list of integers images, such that the i-th entry of images is the image of i under the permutation represented by cs.'''\n",
        "  \n",
        "  L = create_list(cs)\n",
        "  LA = cycle_validation(L)\n",
        "  \n",
        "  if LA == False:\n",
        "    return ('Invalid Permutation')\n",
        "  \n",
        "  try: \n",
        "    from sympy.combinatorics import Permutation\n",
        "  except:\n",
        "    return('''The module \"sympy\" needs to be installed to run this program.''')\n",
        "  \n",
        "  return Permutation(cs[::-1]).list()\n"
      ],
      "execution_count": 0,
      "outputs": []
    },
    {
      "metadata": {
        "id": "gFVr0y8s_pX3",
        "colab_type": "code",
        "colab": {
          "base_uri": "https://localhost:8080/",
          "height": 34
        },
        "outputId": "d8babeff-aa79-4a77-c7d9-5b7204893d89"
      },
      "cell_type": "code",
      "source": [
        "cycle2table([[1,2,3],[0,5]])"
      ],
      "execution_count": 4,
      "outputs": [
        {
          "output_type": "execute_result",
          "data": {
            "text/plain": [
              "'Invalid Permutation'"
            ]
          },
          "metadata": {
            "tags": []
          },
          "execution_count": 4
        }
      ]
    },
    {
      "metadata": {
        "id": "4oeyI3Rs_y-b",
        "colab_type": "code",
        "colab": {
          "base_uri": "https://localhost:8080/",
          "height": 34
        },
        "outputId": "50f460f7-95fb-48a2-a4ba-c61d5b58defc"
      },
      "cell_type": "code",
      "source": [
        "cycle2table([[0,1],[0,1,2]])"
      ],
      "execution_count": 5,
      "outputs": [
        {
          "output_type": "execute_result",
          "data": {
            "text/plain": [
              "[0, 2, 1]"
            ]
          },
          "metadata": {
            "tags": []
          },
          "execution_count": 5
        }
      ]
    },
    {
      "metadata": {
        "id": "Q9Ifcn953D_a",
        "colab_type": "code",
        "colab": {
          "base_uri": "https://localhost:8080/",
          "height": 34
        },
        "outputId": "8af4f90b-27e9-4de7-94cb-0a097a46b17b"
      },
      "cell_type": "code",
      "source": [
        "cycle2table([[0,2],[1,4,2],[3]])"
      ],
      "execution_count": 6,
      "outputs": [
        {
          "output_type": "execute_result",
          "data": {
            "text/plain": [
              "[2, 4, 1, 3, 0]"
            ]
          },
          "metadata": {
            "tags": []
          },
          "execution_count": 6
        }
      ]
    },
    {
      "metadata": {
        "id": "2FK5kyuUYVm4",
        "colab_type": "text"
      },
      "cell_type": "markdown",
      "source": [
        "Problem 3 (5 Points)\n",
        "Write a Python function nearbyPrime(n) which on input a non-negative integer n returns the prime number(s) closest to n. For instance, nearbyPrime(3) must return 3, nearbyPrime(18) must return (17,19), and nearbyPrime(10) must return 11."
      ]
    },
    {
      "metadata": {
        "id": "I9JLuEL3Ynam",
        "colab_type": "code",
        "colab": {}
      },
      "cell_type": "code",
      "source": [
        "##################################################################################################\n",
        "# Problem 3:\n",
        "# Extra Source(s):\n",
        "#    https://stackoverflow.com/questions/2068372/fastest-way-to-list-all-primes-below-n\n",
        "#    https://codegolf.stackexchange.com/questions/10701/fastest-code-to-find-the-next-prime\n",
        "##################################################################################################\n",
        "# Sub-Functions -- Problem 3\n",
        "##################################################################################################\n",
        "\n",
        "def prevprime(n):\n",
        "  L=[0]\n",
        "  for x in range(n+1):\n",
        "    if x > 1:\n",
        "      for k in range(2, x):\n",
        "        if (x % k) == 0:\n",
        "          break\n",
        "      else:\n",
        "        L[0] = x\n",
        "  return(L[0])\n",
        "\n",
        "def is_prime(m):\n",
        "  ''' return True if and only if n is a prime number'''\n",
        "  n = abs(m)\n",
        "  if n == 0 or n==1 or (n%2 == 0 and n>2):\n",
        "    return False\n",
        "  \n",
        "  for i in range(3, int(n ** (1/2)+1), 2):\n",
        "    if n%i ==0:\n",
        "      return False\n",
        "  return True\n",
        "\n",
        "def nextprime(n):\n",
        "  i = n+1\n",
        "  while True:\n",
        "    if is_prime(i) == True:\n",
        "      return i\n",
        "    else:\n",
        "      i += 1\n",
        "\n",
        "##################################################################################################\n",
        "\n",
        "def nearbyPrime(n):\n",
        "  '''on input a non-negative integer n returns the prime number(s) closest to n. Ex. nearbyPrime(3) \n",
        "  must return 3, nearbyPrime(18) must return (17,19), and nearbyPrime(10) must return 11.'''\n",
        "  \n",
        "  n = abs(int(n))\n",
        "  \n",
        "  if is_prime(n) == True:\n",
        "    return(n)\n",
        "  \n",
        "  a = prevprime(n)\n",
        "  b = nextprime(n) \n",
        "  \n",
        "  prevdist = abs(n - a)\n",
        "  nextdist = abs(b - n)\n",
        "  \n",
        "  if prevdist > nextdist:\n",
        "    return(b)\n",
        "  elif prevdist < nextdist:\n",
        "    return(a)\n",
        "  elif prevdist == nextdist:\n",
        "    return(a,b)\n",
        "  \n",
        "##################################################################################################"
      ],
      "execution_count": 0,
      "outputs": []
    },
    {
      "metadata": {
        "id": "deUbuBCxAC24",
        "colab_type": "code",
        "colab": {
          "base_uri": "https://localhost:8080/",
          "height": 68
        },
        "outputId": "0c35bafa-a865-4d01-c951-bf6f1a5627e2"
      },
      "cell_type": "code",
      "source": [
        "print(nearbyPrime(3)  )\n",
        "print(nearbyPrime(18) )\n",
        "print(nearbyPrime(10) )"
      ],
      "execution_count": 8,
      "outputs": [
        {
          "output_type": "stream",
          "text": [
            "3\n",
            "(17, 19)\n",
            "11\n"
          ],
          "name": "stdout"
        }
      ]
    },
    {
      "metadata": {
        "id": "ZFv-sg9PA58B",
        "colab_type": "text"
      },
      "cell_type": "markdown",
      "source": [
        "# Additional Solution to Problem 2\n",
        "## without importing a module"
      ]
    },
    {
      "metadata": {
        "id": "BquAXmQ_A92N",
        "colab_type": "code",
        "colab": {}
      },
      "cell_type": "code",
      "source": [
        "# Problem 2\n",
        "def apply_cycle(cycle,i):\n",
        "  '''apply cycle to an integer'''\n",
        "  image=i #default: assume i is not affected by the cycle\n",
        "  for k in range(len(cycle)):\n",
        "    if cycle[k]==i:\n",
        "      image=cycle[(k+1)%len(cycle)] # right neighbor with 'wraparound'\n",
        "  return image   \n",
        "\n",
        "\n",
        "def cycle2table(cs):\n",
        "  '''convert cycle notation to table'''\n",
        "\n",
        "  from functools import reduce\n",
        "  flattened=reduce(lambda x,y:x+y, cs)\n",
        "\n",
        "  # ... or with a for-loop:\n",
        "  # flattened=[]\n",
        "  # for cycle in cs:\n",
        "  # flattened.extend(cycle)\n",
        "\n",
        "  maximum=max(flattened)\n",
        "  if set(flattened)!=set(i for i in range(maximum+1)) or any(len(set(c))!=len(c) for c in cs):\n",
        "    return \"invalid input\"\n",
        "  \n",
        "  value_table=[]\n",
        "  for i in range(maximum+1):\n",
        "    current_image=i\n",
        "    for j in range(len(cs)-1,-1,-1):\n",
        "      current_image=apply_cycle(cs[j],current_image)\n",
        "    value_table.append(current_image)\n",
        "  return value_table"
      ],
      "execution_count": 0,
      "outputs": []
    },
    {
      "metadata": {
        "id": "BkiGhZ6RBEfn",
        "colab_type": "code",
        "colab": {
          "base_uri": "https://localhost:8080/",
          "height": 34
        },
        "outputId": "c2f76a44-1ada-408e-f646-40e10a84bcdb"
      },
      "cell_type": "code",
      "source": [
        "cycle2table([[1,2,3],[0,5]])"
      ],
      "execution_count": 10,
      "outputs": [
        {
          "output_type": "execute_result",
          "data": {
            "text/plain": [
              "'invalid input'"
            ]
          },
          "metadata": {
            "tags": []
          },
          "execution_count": 10
        }
      ]
    },
    {
      "metadata": {
        "id": "wWYiu5HzBdkR",
        "colab_type": "code",
        "colab": {
          "base_uri": "https://localhost:8080/",
          "height": 34
        },
        "outputId": "f086e601-83da-413d-f4e6-0467dd7ba181"
      },
      "cell_type": "code",
      "source": [
        "cycle2table([[0,1],[0,1,2]])"
      ],
      "execution_count": 11,
      "outputs": [
        {
          "output_type": "execute_result",
          "data": {
            "text/plain": [
              "[0, 2, 1]"
            ]
          },
          "metadata": {
            "tags": []
          },
          "execution_count": 11
        }
      ]
    },
    {
      "metadata": {
        "id": "4m8jYxprBgoM",
        "colab_type": "code",
        "colab": {
          "base_uri": "https://localhost:8080/",
          "height": 34
        },
        "outputId": "173ac63e-2e18-4024-9733-0a157b5d0f6e"
      },
      "cell_type": "code",
      "source": [
        "cycle2table([[0,2],[1,4,2],[3]])"
      ],
      "execution_count": 12,
      "outputs": [
        {
          "output_type": "execute_result",
          "data": {
            "text/plain": [
              "[2, 4, 1, 3, 0]"
            ]
          },
          "metadata": {
            "tags": []
          },
          "execution_count": 12
        }
      ]
    }
  ]
}