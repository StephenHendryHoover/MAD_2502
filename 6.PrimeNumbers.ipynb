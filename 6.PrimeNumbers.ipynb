{
  "nbformat": 4,
  "nbformat_minor": 0,
  "metadata": {
    "colab": {
      "name": "PrimeNumbers.ipynb",
      "version": "0.3.2",
      "provenance": [],
      "collapsed_sections": []
    },
    "kernelspec": {
      "name": "python3",
      "display_name": "Python 3"
    },
    "accelerator": "GPU"
  },
  "cells": [
    {
      "metadata": {
        "id": "0xPZt2pBSMUl",
        "colab_type": "code",
        "colab": {}
      },
      "cell_type": "code",
      "source": [
        "def is_prime(m):\n",
        "  ''' return True if and only if n is a prime number'''\n",
        "  n = abs(m)\n",
        "  if n == 1:\n",
        "    return False\n",
        "  if n%2 == 0 and n>2:\n",
        "    return False\n",
        "  a = True\n",
        "  for i in range(3, int(n ** (1/2)+1), 2):\n",
        "    if n%i ==0:\n",
        "      a = False\n",
        "      break\n",
        "  return a"
      ],
      "execution_count": 0,
      "outputs": []
    },
    {
      "metadata": {
        "id": "hOeIQZL4S8Cq",
        "colab_type": "code",
        "outputId": "eca54bd0-cba1-4274-e298-d4a28c914972",
        "colab": {
          "base_uri": "https://localhost:8080/",
          "height": 34
        }
      },
      "cell_type": "code",
      "source": [
        "is_prime(17)"
      ],
      "execution_count": 2,
      "outputs": [
        {
          "output_type": "execute_result",
          "data": {
            "text/plain": [
              "True"
            ]
          },
          "metadata": {
            "tags": []
          },
          "execution_count": 2
        }
      ]
    },
    {
      "metadata": {
        "id": "3G6pC_TLTBbm",
        "colab_type": "code",
        "colab": {}
      },
      "cell_type": "code",
      "source": [
        "# Primality test: determine an input number is prime there are different types of test to try.\n",
        "# Given an input number \"n\", check whether any prime integer from 2 to \\sqrt(n) evenly divides \"n\"\n",
        "\n",
        "# We can generalize to a program that gives the prime factoization of a given number\n",
        "\n",
        "\n",
        "def primality_test(n):\n",
        "  '''return a list of a prime factor for a natural number'''\n",
        "  \n",
        "  ls = []           # create an empty list\n",
        "  f = 2             # first factor to divide \"n\"\n",
        "  \n",
        "  while n > 1:      # check if the remainder of n divided by \n",
        "    if n % f == 0:\n",
        "      ls.append(f)\n",
        "      n /= f\n",
        "    \n",
        "    else:\n",
        "      f = f+1\n",
        "      \n",
        "  return ls\n",
        "  "
      ],
      "execution_count": 0,
      "outputs": []
    },
    {
      "metadata": {
        "id": "4EZQcXq3WlB8",
        "colab_type": "code",
        "outputId": "f1d2dc1e-495a-4eb5-dc13-77a03f263267",
        "colab": {
          "base_uri": "https://localhost:8080/",
          "height": 34
        }
      },
      "cell_type": "code",
      "source": [
        "primality_test(2007)"
      ],
      "execution_count": 4,
      "outputs": [
        {
          "output_type": "execute_result",
          "data": {
            "text/plain": [
              "[3, 3, 223]"
            ]
          },
          "metadata": {
            "tags": []
          },
          "execution_count": 4
        }
      ]
    },
    {
      "metadata": {
        "id": "NVs8f6xEWp1z",
        "colab_type": "code",
        "colab": {}
      },
      "cell_type": "code",
      "source": [
        "# Fermat prime test\n",
        "\n",
        "# if n is a prime number and \"a\" is a number that is coprime to \"n\", then a^{n-1} mod n = 1 \n",
        "\n",
        "# Example: check if the number, 221, is composite or prime.\n",
        "# Let a = 38  ==> a^{n-1} mod n = 38^{220} mod 221 = 1, so 221 is a composite number\n",
        "# Let b = 24  ==> b^{n-1} mod n  = 24^{220} mod 221 = 81 ≠ 1, so 221 is a composite number\n",
        "\n",
        "# Steps:\n",
        "# pick a random a not divisible by n ( 1 < a < n-1)\n",
        "# calculate the equality to see if it holds \n",
        "# if it does not then n is a composite number\n",
        "# * consider testing this more than once with different arguments (i.e., inputs)\n",
        "\n",
        "def Fermat_Prime_Test(n, k):\n",
        "  '''return False if the number if composite and True if the number if probably prime '''\n",
        "  import random\n",
        "  if n == 2: # checks the intial case. i.e., if \"n\" = 2; if n is an even number\n",
        "    return True\n",
        "  if n % 2 == 0:\n",
        "    return False\n",
        "  \n",
        "  for i in range(k):\n",
        "    a = random.randint(1, n-1)\n",
        "    \n",
        "    if (a**(n-1)) % n != 1:\n",
        "      return False\n",
        "    \n",
        "  return True"
      ],
      "execution_count": 0,
      "outputs": []
    },
    {
      "metadata": {
        "id": "OLTAlTHLa-Ei",
        "colab_type": "code",
        "outputId": "82b118eb-d51e-488c-8cae-66f813f2993b",
        "colab": {
          "base_uri": "https://localhost:8080/",
          "height": 34
        }
      },
      "cell_type": "code",
      "source": [
        "Fermat_Prime_Test(1021, 500)"
      ],
      "execution_count": 6,
      "outputs": [
        {
          "output_type": "execute_result",
          "data": {
            "text/plain": [
              "True"
            ]
          },
          "metadata": {
            "tags": []
          },
          "execution_count": 6
        }
      ]
    },
    {
      "metadata": {
        "id": "5sezC5_CbiH8",
        "colab_type": "code",
        "outputId": "4b11b875-5a06-4d68-8c77-f9e1233fc526",
        "colab": {
          "base_uri": "https://localhost:8080/",
          "height": 34
        }
      },
      "cell_type": "code",
      "source": [
        "Fermat_Prime_Test(1021, 500)"
      ],
      "execution_count": 7,
      "outputs": [
        {
          "output_type": "execute_result",
          "data": {
            "text/plain": [
              "True"
            ]
          },
          "metadata": {
            "tags": []
          },
          "execution_count": 7
        }
      ]
    },
    {
      "metadata": {
        "id": "PWxyOOcOcCWX",
        "colab_type": "code",
        "colab": {}
      },
      "cell_type": "code",
      "source": [
        "# Miller-Rabin prime test: \n",
        "\n",
        "# Given an integer n, choose some positive integer a < n. Let n-1 = 2^{s} * d, where d is an odd. If a^{d} mod n ≠ 1 and \n",
        "# a^{2^{r} * d} mod n ≠ n-1 for all 0 <= r <= s-1, then n is composite.\n",
        "\n",
        "# Example: n = 221 is prime 3\n",
        "# 1. n-1 = 220 = 2^{2} * 55 ==> s=2; d=55 \n",
        "# 2. Pick \"a\" such that a < a< n-1, say \"a\" = 174 <== 'not true'\n",
        "# 3. Compute: a^{d} mod n = 174^{55} mod 221 = 47 \n",
        "#    a^{2*d} mod n = 174^{2*55} mod 221 = 220 \n",
        "\n",
        "# check again with  a = 137 to show that 221 is indeed a composite.\n",
        "\n",
        "def Miller_Rabin__test(n, k):\n",
        "  '''retun False means that n is certianly not prime\n",
        "  True implies n is a very likely to be prime'''\n",
        "  import random\n",
        "  \n",
        "  if n ==2:\n",
        "    return True\n",
        "  elif n % 2 == 0:\n",
        "    return False\n",
        "  \n",
        "  s = 0 \n",
        "  d = n-1\n",
        "  \n",
        "  while True:\n",
        "    quotient, remainder = divmod(d,2) # new command: divide modular, takes in two components\n",
        "    if remainder == 1:\n",
        "      break\n",
        "    s += 1 \n",
        "    d = quotient \n",
        "    \n",
        "  def try_composite(a):\n",
        "    if (a**d) % n == 1:\n",
        "      return False\n",
        "    for i in range(s):\n",
        "      if (a**(2**(i*d))) == n-1:\n",
        "        return False\n",
        "    return True\n",
        "    \n",
        "  for i in range(k):\n",
        "    a = random.randint(1,n)\n",
        "    if try_composite(a):\n",
        "      return False\n",
        "    return True"
      ],
      "execution_count": 0,
      "outputs": []
    },
    {
      "metadata": {
        "id": "-yGW5LfnfjUs",
        "colab_type": "code",
        "outputId": "7a12d43c-378f-4b75-facb-232dd15ea870",
        "colab": {
          "base_uri": "https://localhost:8080/",
          "height": 34
        }
      },
      "cell_type": "code",
      "source": [
        "Miller_Rabin__test(101, 10)"
      ],
      "execution_count": 9,
      "outputs": [
        {
          "output_type": "execute_result",
          "data": {
            "text/plain": [
              "True"
            ]
          },
          "metadata": {
            "tags": []
          },
          "execution_count": 9
        }
      ]
    },
    {
      "metadata": {
        "id": "-s_Xunh0hY8x",
        "colab_type": "code",
        "outputId": "82bcea29-6232-47dc-dd78-a404c8fc7513",
        "colab": {
          "base_uri": "https://localhost:8080/",
          "height": 34
        }
      },
      "cell_type": "code",
      "source": [
        "Miller_Rabin__test(810, 10)"
      ],
      "execution_count": 10,
      "outputs": [
        {
          "output_type": "execute_result",
          "data": {
            "text/plain": [
              "False"
            ]
          },
          "metadata": {
            "tags": []
          },
          "execution_count": 10
        }
      ]
    }
  ]
}